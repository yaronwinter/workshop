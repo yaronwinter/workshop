{
 "cells": [
  {
   "cell_type": "code",
   "execution_count": 1,
   "id": "3b459606",
   "metadata": {
    "scrolled": true
   },
   "outputs": [
    {
     "name": "stdout",
     "output_type": "stream",
     "text": [
      "Defaulting to user installation because normal site-packages is not writeable\n",
      "Requirement already satisfied: tensorboard in /home/projects/dharel/eranbe/.local/lib/python3.8/site-packages (2.13.0)\n",
      "Requirement already satisfied: google-auth<3,>=1.6.3 in /home/projects/dharel/eranbe/.local/lib/python3.8/site-packages (from tensorboard) (2.21.0)\n",
      "Requirement already satisfied: setuptools>=41.0.0 in /apps/easybd/easybuild/software/Miniconda3/4.9.2/lib/python3.8/site-packages (from tensorboard) (50.3.1.post20201107)\n",
      "Requirement already satisfied: protobuf>=3.19.6 in /home/projects/dharel/eranbe/.local/lib/python3.8/site-packages (from tensorboard) (4.23.4)\n",
      "Requirement already satisfied: requests<3,>=2.21.0 in /home/projects/dharel/eranbe/.local/lib/python3.8/site-packages (from tensorboard) (2.31.0)\n",
      "Requirement already satisfied: markdown>=2.6.8 in /home/projects/dharel/eranbe/.local/lib/python3.8/site-packages (from tensorboard) (3.4.3)\n",
      "Requirement already satisfied: google-auth-oauthlib<1.1,>=0.5 in /home/projects/dharel/eranbe/.local/lib/python3.8/site-packages (from tensorboard) (1.0.0)\n",
      "Requirement already satisfied: werkzeug>=1.0.1 in /home/projects/dharel/eranbe/.local/lib/python3.8/site-packages (from tensorboard) (2.3.6)\n",
      "Requirement already satisfied: absl-py>=0.4 in /home/projects/dharel/eranbe/.local/lib/python3.8/site-packages (from tensorboard) (1.4.0)\n",
      "Requirement already satisfied: numpy>=1.12.0 in /apps/easybd/easybuild/software/Miniconda3/4.9.2/lib/python3.8/site-packages (from tensorboard) (1.22.3)\n",
      "Requirement already satisfied: wheel>=0.26 in /apps/easybd/easybuild/software/Miniconda3/4.9.2/lib/python3.8/site-packages (from tensorboard) (0.35.1)\n",
      "Requirement already satisfied: grpcio>=1.48.2 in /home/projects/dharel/eranbe/.local/lib/python3.8/site-packages (from tensorboard) (1.56.0)\n",
      "Requirement already satisfied: tensorboard-data-server<0.8.0,>=0.7.0 in /home/projects/dharel/eranbe/.local/lib/python3.8/site-packages (from tensorboard) (0.7.1)\n",
      "Requirement already satisfied: cachetools<6.0,>=2.0.0 in /home/projects/dharel/eranbe/.local/lib/python3.8/site-packages (from google-auth<3,>=1.6.3->tensorboard) (5.3.1)\n",
      "Requirement already satisfied: urllib3<2.0 in /apps/easybd/easybuild/software/Miniconda3/4.9.2/lib/python3.8/site-packages (from google-auth<3,>=1.6.3->tensorboard) (1.25.11)\n",
      "Requirement already satisfied: rsa<5,>=3.1.4 in /home/projects/dharel/eranbe/.local/lib/python3.8/site-packages (from google-auth<3,>=1.6.3->tensorboard) (4.9)\n",
      "Requirement already satisfied: pyasn1-modules>=0.2.1 in /home/projects/dharel/eranbe/.local/lib/python3.8/site-packages (from google-auth<3,>=1.6.3->tensorboard) (0.3.0)\n",
      "Requirement already satisfied: six>=1.9.0 in /apps/easybd/easybuild/software/Miniconda3/4.9.2/lib/python3.8/site-packages (from google-auth<3,>=1.6.3->tensorboard) (1.15.0)\n",
      "Requirement already satisfied: requests-oauthlib>=0.7.0 in /home/projects/dharel/eranbe/.local/lib/python3.8/site-packages (from google-auth-oauthlib<1.1,>=0.5->tensorboard) (1.3.1)\n",
      "Requirement already satisfied: importlib-metadata>=4.4 in /apps/easybd/easybuild/software/Miniconda3/4.9.2/lib/python3.8/site-packages (from markdown>=2.6.8->tensorboard) (6.6.0)\n",
      "Requirement already satisfied: idna<4,>=2.5 in /apps/easybd/easybuild/software/Miniconda3/4.9.2/lib/python3.8/site-packages (from requests<3,>=2.21.0->tensorboard) (2.10)\n",
      "Requirement already satisfied: charset-normalizer<4,>=2 in /home/projects/dharel/eranbe/.local/lib/python3.8/site-packages (from requests<3,>=2.21.0->tensorboard) (3.2.0)\n",
      "Requirement already satisfied: certifi>=2017.4.17 in /apps/easybd/easybuild/software/Miniconda3/4.9.2/lib/python3.8/site-packages (from requests<3,>=2.21.0->tensorboard) (2023.5.7)\n",
      "Requirement already satisfied: MarkupSafe>=2.1.1 in /apps/easybd/easybuild/software/Miniconda3/4.9.2/lib/python3.8/site-packages (from werkzeug>=1.0.1->tensorboard) (2.1.1)\n",
      "Requirement already satisfied: zipp>=0.5 in /apps/easybd/easybuild/software/Miniconda3/4.9.2/lib/python3.8/site-packages (from importlib-metadata>=4.4->markdown>=2.6.8->tensorboard) (3.15.0)\n",
      "Requirement already satisfied: pyasn1<0.6.0,>=0.4.6 in /home/projects/dharel/eranbe/.local/lib/python3.8/site-packages (from pyasn1-modules>=0.2.1->google-auth<3,>=1.6.3->tensorboard) (0.5.0)\n",
      "Requirement already satisfied: oauthlib>=3.0.0 in /apps/easybd/easybuild/software/Miniconda3/4.9.2/lib/python3.8/site-packages (from requests-oauthlib>=0.7.0->google-auth-oauthlib<1.1,>=0.5->tensorboard) (3.2.2)\n",
      "\n",
      "\u001b[1m[\u001b[0m\u001b[34;49mnotice\u001b[0m\u001b[1;39;49m]\u001b[0m\u001b[39;49m A new release of pip available: \u001b[0m\u001b[31;49m22.2.2\u001b[0m\u001b[39;49m -> \u001b[0m\u001b[32;49m23.1.2\u001b[0m\n",
      "\u001b[1m[\u001b[0m\u001b[34;49mnotice\u001b[0m\u001b[1;39;49m]\u001b[0m\u001b[39;49m To update, run: \u001b[0m\u001b[32;49mpip install --upgrade pip\u001b[0m\n",
      "Defaulting to user installation because normal site-packages is not writeable\n",
      "Requirement already satisfied: accelerate in /home/projects/dharel/eranbe/.local/lib/python3.8/site-packages (0.21.0)\n",
      "Requirement already satisfied: pyyaml in /home/projects/dharel/eranbe/.local/lib/python3.8/site-packages (from accelerate) (6.0)\n",
      "Requirement already satisfied: torch>=1.10.0 in /home/projects/dharel/eranbe/.local/lib/python3.8/site-packages (from accelerate) (2.0.1)\n",
      "Requirement already satisfied: psutil in /home/projects/dharel/eranbe/.local/lib/python3.8/site-packages (from accelerate) (5.9.5)\n",
      "Requirement already satisfied: numpy>=1.17 in /apps/easybd/easybuild/software/Miniconda3/4.9.2/lib/python3.8/site-packages (from accelerate) (1.22.3)\n",
      "Requirement already satisfied: packaging>=20.0 in /apps/easybd/easybuild/software/Miniconda3/4.9.2/lib/python3.8/site-packages (from accelerate) (23.1)\n",
      "Requirement already satisfied: networkx in /home/projects/dharel/eranbe/.local/lib/python3.8/site-packages (from torch>=1.10.0->accelerate) (3.1)\n",
      "Requirement already satisfied: jinja2 in /apps/easybd/easybuild/software/Miniconda3/4.9.2/lib/python3.8/site-packages (from torch>=1.10.0->accelerate) (3.1.2)\n",
      "Requirement already satisfied: nvidia-cuda-nvrtc-cu11==11.7.99 in /home/projects/dharel/eranbe/.local/lib/python3.8/site-packages (from torch>=1.10.0->accelerate) (11.7.99)\n",
      "Requirement already satisfied: nvidia-cuda-runtime-cu11==11.7.99 in /home/projects/dharel/eranbe/.local/lib/python3.8/site-packages (from torch>=1.10.0->accelerate) (11.7.99)\n",
      "Requirement already satisfied: filelock in /apps/easybd/easybuild/software/Miniconda3/4.9.2/lib/python3.8/site-packages (from torch>=1.10.0->accelerate) (3.6.0)\n",
      "Requirement already satisfied: nvidia-nccl-cu11==2.14.3 in /home/projects/dharel/eranbe/.local/lib/python3.8/site-packages (from torch>=1.10.0->accelerate) (2.14.3)\n",
      "Requirement already satisfied: typing-extensions in /home/projects/dharel/eranbe/.local/lib/python3.8/site-packages (from torch>=1.10.0->accelerate) (4.7.1)\n",
      "Requirement already satisfied: nvidia-cufft-cu11==10.9.0.58 in /home/projects/dharel/eranbe/.local/lib/python3.8/site-packages (from torch>=1.10.0->accelerate) (10.9.0.58)\n",
      "Requirement already satisfied: nvidia-cuda-cupti-cu11==11.7.101 in /home/projects/dharel/eranbe/.local/lib/python3.8/site-packages (from torch>=1.10.0->accelerate) (11.7.101)\n",
      "Requirement already satisfied: nvidia-curand-cu11==10.2.10.91 in /home/projects/dharel/eranbe/.local/lib/python3.8/site-packages (from torch>=1.10.0->accelerate) (10.2.10.91)\n",
      "Requirement already satisfied: sympy in /home/projects/dharel/eranbe/.local/lib/python3.8/site-packages (from torch>=1.10.0->accelerate) (1.12)\n",
      "Requirement already satisfied: nvidia-cusparse-cu11==11.7.4.91 in /home/projects/dharel/eranbe/.local/lib/python3.8/site-packages (from torch>=1.10.0->accelerate) (11.7.4.91)\n",
      "Requirement already satisfied: nvidia-cudnn-cu11==8.5.0.96 in /home/projects/dharel/eranbe/.local/lib/python3.8/site-packages (from torch>=1.10.0->accelerate) (8.5.0.96)\n",
      "Requirement already satisfied: triton==2.0.0 in /home/projects/dharel/eranbe/.local/lib/python3.8/site-packages (from torch>=1.10.0->accelerate) (2.0.0)\n",
      "Requirement already satisfied: nvidia-cusolver-cu11==11.4.0.1 in /home/projects/dharel/eranbe/.local/lib/python3.8/site-packages (from torch>=1.10.0->accelerate) (11.4.0.1)\n",
      "Requirement already satisfied: nvidia-nvtx-cu11==11.7.91 in /home/projects/dharel/eranbe/.local/lib/python3.8/site-packages (from torch>=1.10.0->accelerate) (11.7.91)\n",
      "Requirement already satisfied: nvidia-cublas-cu11==11.10.3.66 in /home/projects/dharel/eranbe/.local/lib/python3.8/site-packages (from torch>=1.10.0->accelerate) (11.10.3.66)\n",
      "Requirement already satisfied: setuptools in /apps/easybd/easybuild/software/Miniconda3/4.9.2/lib/python3.8/site-packages (from nvidia-cublas-cu11==11.10.3.66->torch>=1.10.0->accelerate) (50.3.1.post20201107)\n",
      "Requirement already satisfied: wheel in /apps/easybd/easybuild/software/Miniconda3/4.9.2/lib/python3.8/site-packages (from nvidia-cublas-cu11==11.10.3.66->torch>=1.10.0->accelerate) (0.35.1)\n",
      "Requirement already satisfied: lit in /home/projects/dharel/eranbe/.local/lib/python3.8/site-packages (from triton==2.0.0->torch>=1.10.0->accelerate) (16.0.6)\n",
      "Requirement already satisfied: cmake in /home/projects/dharel/eranbe/.local/lib/python3.8/site-packages (from triton==2.0.0->torch>=1.10.0->accelerate) (3.26.4)\n"
     ]
    },
    {
     "name": "stdout",
     "output_type": "stream",
     "text": [
      "Requirement already satisfied: MarkupSafe>=2.0 in /apps/easybd/easybuild/software/Miniconda3/4.9.2/lib/python3.8/site-packages (from jinja2->torch>=1.10.0->accelerate) (2.1.1)\n",
      "Requirement already satisfied: mpmath>=0.19 in /home/projects/dharel/eranbe/.local/lib/python3.8/site-packages (from sympy->torch>=1.10.0->accelerate) (1.3.0)\n",
      "\n",
      "\u001b[1m[\u001b[0m\u001b[34;49mnotice\u001b[0m\u001b[1;39;49m]\u001b[0m\u001b[39;49m A new release of pip available: \u001b[0m\u001b[31;49m22.2.2\u001b[0m\u001b[39;49m -> \u001b[0m\u001b[32;49m23.1.2\u001b[0m\n",
      "\u001b[1m[\u001b[0m\u001b[34;49mnotice\u001b[0m\u001b[1;39;49m]\u001b[0m\u001b[39;49m To update, run: \u001b[0m\u001b[32;49mpip install --upgrade pip\u001b[0m\n",
      "Defaulting to user installation because normal site-packages is not writeable\n",
      "Requirement already satisfied: scipy in /home/projects/dharel/eranbe/.local/lib/python3.8/site-packages (1.10.1)\n",
      "Requirement already satisfied: numpy<1.27.0,>=1.19.5 in /apps/easybd/easybuild/software/Miniconda3/4.9.2/lib/python3.8/site-packages (from scipy) (1.22.3)\n",
      "\n",
      "\u001b[1m[\u001b[0m\u001b[34;49mnotice\u001b[0m\u001b[1;39;49m]\u001b[0m\u001b[39;49m A new release of pip available: \u001b[0m\u001b[31;49m22.2.2\u001b[0m\u001b[39;49m -> \u001b[0m\u001b[32;49m23.1.2\u001b[0m\n",
      "\u001b[1m[\u001b[0m\u001b[34;49mnotice\u001b[0m\u001b[1;39;49m]\u001b[0m\u001b[39;49m To update, run: \u001b[0m\u001b[32;49mpip install --upgrade pip\u001b[0m\n",
      "\n",
      "\u001b[1m[\u001b[0m\u001b[34;49mnotice\u001b[0m\u001b[1;39;49m]\u001b[0m\u001b[39;49m A new release of pip available: \u001b[0m\u001b[31;49m22.2.2\u001b[0m\u001b[39;49m -> \u001b[0m\u001b[32;49m23.1.2\u001b[0m\n",
      "\u001b[1m[\u001b[0m\u001b[34;49mnotice\u001b[0m\u001b[1;39;49m]\u001b[0m\u001b[39;49m To update, run: \u001b[0m\u001b[32;49mpip install --upgrade pip\u001b[0m\n",
      "Defaulting to user installation because normal site-packages is not writeable\n",
      "Collecting git+https://github.com/huggingface/transformers\n",
      "  Cloning https://github.com/huggingface/transformers to /tmp/pip-req-build-op5ccgxs\n",
      "  Running command git clone --quiet https://github.com/huggingface/transformers /tmp/pip-req-build-op5ccgxs\n",
      "  Resolved https://github.com/huggingface/transformers to commit 5bb4430edc7df9f9950d412d98bbe505cc4d328b\n",
      "  Installing build dependencies ... \u001b[?25ldone\n",
      "\u001b[?25h  Getting requirements to build wheel ... \u001b[?25ldone\n",
      "\u001b[?25h  Preparing metadata (pyproject.toml) ... \u001b[?25ldone\n",
      "\u001b[?25hRequirement already satisfied: packaging>=20.0 in /apps/easybd/easybuild/software/Miniconda3/4.9.2/lib/python3.8/site-packages (from transformers==4.31.0.dev0) (23.1)\n",
      "Requirement already satisfied: tokenizers!=0.11.3,<0.14,>=0.11.1 in /home/projects/dharel/eranbe/.local/lib/python3.8/site-packages (from transformers==4.31.0.dev0) (0.13.3)\n",
      "Requirement already satisfied: safetensors>=0.3.1 in /home/projects/dharel/eranbe/.local/lib/python3.8/site-packages (from transformers==4.31.0.dev0) (0.3.1)\n",
      "Requirement already satisfied: filelock in /apps/easybd/easybuild/software/Miniconda3/4.9.2/lib/python3.8/site-packages (from transformers==4.31.0.dev0) (3.6.0)\n",
      "Requirement already satisfied: regex!=2019.12.17 in /home/projects/dharel/eranbe/.local/lib/python3.8/site-packages (from transformers==4.31.0.dev0) (2023.6.3)\n",
      "Requirement already satisfied: pyyaml>=5.1 in /home/projects/dharel/eranbe/.local/lib/python3.8/site-packages (from transformers==4.31.0.dev0) (6.0)\n",
      "Requirement already satisfied: tqdm>=4.27 in /home/projects/dharel/eranbe/.local/lib/python3.8/site-packages (from transformers==4.31.0.dev0) (4.65.0)\n",
      "Requirement already satisfied: numpy>=1.17 in /apps/easybd/easybuild/software/Miniconda3/4.9.2/lib/python3.8/site-packages (from transformers==4.31.0.dev0) (1.22.3)\n",
      "Requirement already satisfied: requests in /home/projects/dharel/eranbe/.local/lib/python3.8/site-packages (from transformers==4.31.0.dev0) (2.31.0)\n",
      "Requirement already satisfied: huggingface-hub<1.0,>=0.14.1 in /home/projects/dharel/eranbe/.local/lib/python3.8/site-packages (from transformers==4.31.0.dev0) (0.16.4)\n",
      "Requirement already satisfied: typing-extensions>=3.7.4.3 in /home/projects/dharel/eranbe/.local/lib/python3.8/site-packages (from huggingface-hub<1.0,>=0.14.1->transformers==4.31.0.dev0) (4.7.1)\n",
      "Requirement already satisfied: fsspec in /home/projects/dharel/eranbe/.local/lib/python3.8/site-packages (from huggingface-hub<1.0,>=0.14.1->transformers==4.31.0.dev0) (2023.6.0)\n",
      "Requirement already satisfied: charset-normalizer<4,>=2 in /home/projects/dharel/eranbe/.local/lib/python3.8/site-packages (from requests->transformers==4.31.0.dev0) (3.2.0)\n",
      "Requirement already satisfied: idna<4,>=2.5 in /apps/easybd/easybuild/software/Miniconda3/4.9.2/lib/python3.8/site-packages (from requests->transformers==4.31.0.dev0) (2.10)\n",
      "Requirement already satisfied: certifi>=2017.4.17 in /apps/easybd/easybuild/software/Miniconda3/4.9.2/lib/python3.8/site-packages (from requests->transformers==4.31.0.dev0) (2023.5.7)\n",
      "Requirement already satisfied: urllib3<3,>=1.21.1 in /apps/easybd/easybuild/software/Miniconda3/4.9.2/lib/python3.8/site-packages (from requests->transformers==4.31.0.dev0) (1.25.11)\n",
      "\n",
      "\u001b[1m[\u001b[0m\u001b[34;49mnotice\u001b[0m\u001b[1;39;49m]\u001b[0m\u001b[39;49m A new release of pip available: \u001b[0m\u001b[31;49m22.2.2\u001b[0m\u001b[39;49m -> \u001b[0m\u001b[32;49m23.1.2\u001b[0m\n",
      "\u001b[1m[\u001b[0m\u001b[34;49mnotice\u001b[0m\u001b[1;39;49m]\u001b[0m\u001b[39;49m To update, run: \u001b[0m\u001b[32;49mpip install --upgrade pip\u001b[0m\n",
      "Defaulting to user installation because normal site-packages is not writeable\n",
      "Requirement already satisfied: librosa in /home/projects/dharel/eranbe/.local/lib/python3.8/site-packages (0.9.2)\n",
      "Requirement already satisfied: resampy>=0.2.2 in /home/projects/dharel/eranbe/.local/lib/python3.8/site-packages (from librosa) (0.4.2)\n",
      "Requirement already satisfied: numba>=0.45.1 in /home/projects/dharel/eranbe/.local/lib/python3.8/site-packages (from librosa) (0.57.1)\n",
      "Requirement already satisfied: decorator>=4.0.10 in /apps/easybd/easybuild/software/Miniconda3/4.9.2/lib/python3.8/site-packages (from librosa) (5.1.1)\n",
      "Requirement already satisfied: soundfile>=0.10.2 in /home/projects/dharel/eranbe/.local/lib/python3.8/site-packages (from librosa) (0.12.1)\n",
      "Requirement already satisfied: pooch>=1.0 in /home/projects/dharel/eranbe/.local/lib/python3.8/site-packages (from librosa) (1.6.0)\n",
      "Requirement already satisfied: joblib>=0.14 in /home/projects/dharel/eranbe/.local/lib/python3.8/site-packages (from librosa) (1.3.1)\n",
      "Requirement already satisfied: scikit-learn>=0.19.1 in /home/projects/dharel/eranbe/.local/lib/python3.8/site-packages (from librosa) (1.3.0)\n",
      "Requirement already satisfied: scipy>=1.2.0 in /home/projects/dharel/eranbe/.local/lib/python3.8/site-packages (from librosa) (1.10.1)\n",
      "Requirement already satisfied: packaging>=20.0 in /apps/easybd/easybuild/software/Miniconda3/4.9.2/lib/python3.8/site-packages (from librosa) (23.1)\n",
      "Requirement already satisfied: audioread>=2.1.9 in /home/projects/dharel/eranbe/.local/lib/python3.8/site-packages (from librosa) (3.0.0)\n",
      "Requirement already satisfied: numpy>=1.17.0 in /apps/easybd/easybuild/software/Miniconda3/4.9.2/lib/python3.8/site-packages (from librosa) (1.22.3)\n",
      "Requirement already satisfied: importlib-metadata in /apps/easybd/easybuild/software/Miniconda3/4.9.2/lib/python3.8/site-packages (from numba>=0.45.1->librosa) (6.6.0)\n",
      "Requirement already satisfied: llvmlite<0.41,>=0.40.0dev0 in /home/projects/dharel/eranbe/.local/lib/python3.8/site-packages (from numba>=0.45.1->librosa) (0.40.1)\n",
      "Requirement already satisfied: requests>=2.19.0 in /home/projects/dharel/eranbe/.local/lib/python3.8/site-packages (from pooch>=1.0->librosa) (2.31.0)\n",
      "Requirement already satisfied: appdirs>=1.3.0 in /home/projects/dharel/eranbe/.local/lib/python3.8/site-packages (from pooch>=1.0->librosa) (1.4.4)\n",
      "Requirement already satisfied: threadpoolctl>=2.0.0 in /home/projects/dharel/eranbe/.local/lib/python3.8/site-packages (from scikit-learn>=0.19.1->librosa) (3.1.0)\n",
      "Requirement already satisfied: cffi>=1.0 in /apps/easybd/easybuild/software/Miniconda3/4.9.2/lib/python3.8/site-packages (from soundfile>=0.10.2->librosa) (1.14.3)\n",
      "Requirement already satisfied: pycparser in /apps/easybd/easybuild/software/Miniconda3/4.9.2/lib/python3.8/site-packages (from cffi>=1.0->soundfile>=0.10.2->librosa) (2.20)\n",
      "Requirement already satisfied: charset-normalizer<4,>=2 in /home/projects/dharel/eranbe/.local/lib/python3.8/site-packages (from requests>=2.19.0->pooch>=1.0->librosa) (3.2.0)\n",
      "Requirement already satisfied: urllib3<3,>=1.21.1 in /apps/easybd/easybuild/software/Miniconda3/4.9.2/lib/python3.8/site-packages (from requests>=2.19.0->pooch>=1.0->librosa) (1.25.11)\n",
      "Requirement already satisfied: certifi>=2017.4.17 in /apps/easybd/easybuild/software/Miniconda3/4.9.2/lib/python3.8/site-packages (from requests>=2.19.0->pooch>=1.0->librosa) (2023.5.7)\n",
      "Requirement already satisfied: idna<4,>=2.5 in /apps/easybd/easybuild/software/Miniconda3/4.9.2/lib/python3.8/site-packages (from requests>=2.19.0->pooch>=1.0->librosa) (2.10)\n"
     ]
    },
    {
     "name": "stdout",
     "output_type": "stream",
     "text": [
      "Requirement already satisfied: zipp>=0.5 in /apps/easybd/easybuild/software/Miniconda3/4.9.2/lib/python3.8/site-packages (from importlib-metadata->numba>=0.45.1->librosa) (3.15.0)\n",
      "\n",
      "\u001b[1m[\u001b[0m\u001b[34;49mnotice\u001b[0m\u001b[1;39;49m]\u001b[0m\u001b[39;49m A new release of pip available: \u001b[0m\u001b[31;49m22.2.2\u001b[0m\u001b[39;49m -> \u001b[0m\u001b[32;49m23.1.2\u001b[0m\n",
      "\u001b[1m[\u001b[0m\u001b[34;49mnotice\u001b[0m\u001b[1;39;49m]\u001b[0m\u001b[39;49m To update, run: \u001b[0m\u001b[32;49mpip install --upgrade pip\u001b[0m\n",
      "\n",
      "\u001b[1m[\u001b[0m\u001b[34;49mnotice\u001b[0m\u001b[1;39;49m]\u001b[0m\u001b[39;49m A new release of pip available: \u001b[0m\u001b[31;49m22.2.2\u001b[0m\u001b[39;49m -> \u001b[0m\u001b[32;49m23.1.2\u001b[0m\n",
      "\u001b[1m[\u001b[0m\u001b[34;49mnotice\u001b[0m\u001b[1;39;49m]\u001b[0m\u001b[39;49m To update, run: \u001b[0m\u001b[32;49mpip install --upgrade pip\u001b[0m\n",
      "Defaulting to user installation because normal site-packages is not writeable\n",
      "Requirement already satisfied: jiwer in /home/projects/dharel/eranbe/.local/lib/python3.8/site-packages (3.0.2)\n",
      "Requirement already satisfied: click<9.0.0,>=8.1.3 in /home/projects/dharel/eranbe/.local/lib/python3.8/site-packages (from jiwer) (8.1.4)\n",
      "Requirement already satisfied: rapidfuzz==2.13.7 in /home/projects/dharel/eranbe/.local/lib/python3.8/site-packages (from jiwer) (2.13.7)\n",
      "\n",
      "\u001b[1m[\u001b[0m\u001b[34;49mnotice\u001b[0m\u001b[1;39;49m]\u001b[0m\u001b[39;49m A new release of pip available: \u001b[0m\u001b[31;49m22.2.2\u001b[0m\u001b[39;49m -> \u001b[0m\u001b[32;49m23.1.2\u001b[0m\n",
      "\u001b[1m[\u001b[0m\u001b[34;49mnotice\u001b[0m\u001b[1;39;49m]\u001b[0m\u001b[39;49m To update, run: \u001b[0m\u001b[32;49mpip install --upgrade pip\u001b[0m\n",
      "Defaulting to user installation because normal site-packages is not writeable\n",
      "Requirement already satisfied: gradio in /home/projects/dharel/eranbe/.local/lib/python3.8/site-packages (3.36.1)\n",
      "Requirement already satisfied: aiofiles in /home/projects/dharel/eranbe/.local/lib/python3.8/site-packages (from gradio) (23.1.0)\n",
      "Requirement already satisfied: pydub in /home/projects/dharel/eranbe/.local/lib/python3.8/site-packages (from gradio) (0.25.1)\n",
      "Requirement already satisfied: fastapi in /home/projects/dharel/eranbe/.local/lib/python3.8/site-packages (from gradio) (0.100.0)\n",
      "Requirement already satisfied: numpy in /apps/easybd/easybuild/software/Miniconda3/4.9.2/lib/python3.8/site-packages (from gradio) (1.22.3)\n",
      "Requirement already satisfied: aiohttp in /home/projects/dharel/eranbe/.local/lib/python3.8/site-packages (from gradio) (3.8.4)\n",
      "Requirement already satisfied: websockets>=10.0 in /home/projects/dharel/eranbe/.local/lib/python3.8/site-packages (from gradio) (11.0.3)\n",
      "Requirement already satisfied: httpx in /home/projects/dharel/eranbe/.local/lib/python3.8/site-packages (from gradio) (0.24.1)\n",
      "Requirement already satisfied: pillow in /home/projects/dharel/eranbe/.local/lib/python3.8/site-packages (from gradio) (10.0.0)\n",
      "Requirement already satisfied: semantic-version in /home/projects/dharel/eranbe/.local/lib/python3.8/site-packages (from gradio) (2.10.0)\n",
      "Requirement already satisfied: altair>=4.2.0 in /home/projects/dharel/eranbe/.local/lib/python3.8/site-packages (from gradio) (5.0.1)\n",
      "Requirement already satisfied: pandas in /home/projects/dharel/eranbe/.local/lib/python3.8/site-packages (from gradio) (2.0.3)\n",
      "Requirement already satisfied: pydantic in /home/projects/dharel/eranbe/.local/lib/python3.8/site-packages (from gradio) (2.0.2)\n",
      "Requirement already satisfied: mdit-py-plugins<=0.3.3 in /home/projects/dharel/eranbe/.local/lib/python3.8/site-packages (from gradio) (0.3.3)\n",
      "Requirement already satisfied: python-multipart in /home/projects/dharel/eranbe/.local/lib/python3.8/site-packages (from gradio) (0.0.6)\n",
      "Requirement already satisfied: pyyaml in /home/projects/dharel/eranbe/.local/lib/python3.8/site-packages (from gradio) (6.0)\n",
      "Requirement already satisfied: markdown-it-py[linkify]>=2.0.0 in /home/projects/dharel/eranbe/.local/lib/python3.8/site-packages (from gradio) (2.2.0)\n",
      "Requirement already satisfied: matplotlib in /home/projects/dharel/eranbe/.local/lib/python3.8/site-packages (from gradio) (3.7.2)\n",
      "Requirement already satisfied: orjson in /home/projects/dharel/eranbe/.local/lib/python3.8/site-packages (from gradio) (3.9.2)\n",
      "Requirement already satisfied: requests in /home/projects/dharel/eranbe/.local/lib/python3.8/site-packages (from gradio) (2.31.0)\n",
      "Requirement already satisfied: uvicorn>=0.14.0 in /home/projects/dharel/eranbe/.local/lib/python3.8/site-packages (from gradio) (0.22.0)\n",
      "Requirement already satisfied: jinja2 in /apps/easybd/easybuild/software/Miniconda3/4.9.2/lib/python3.8/site-packages (from gradio) (3.1.2)\n",
      "Requirement already satisfied: gradio-client>=0.2.7 in /home/projects/dharel/eranbe/.local/lib/python3.8/site-packages (from gradio) (0.2.7)\n",
      "Requirement already satisfied: markupsafe in /apps/easybd/easybuild/software/Miniconda3/4.9.2/lib/python3.8/site-packages (from gradio) (2.1.1)\n",
      "Requirement already satisfied: ffmpy in /home/projects/dharel/eranbe/.local/lib/python3.8/site-packages (from gradio) (0.3.0)\n",
      "Requirement already satisfied: huggingface-hub>=0.14.0 in /home/projects/dharel/eranbe/.local/lib/python3.8/site-packages (from gradio) (0.16.4)\n",
      "Requirement already satisfied: pygments>=2.12.0 in /apps/easybd/easybuild/software/Miniconda3/4.9.2/lib/python3.8/site-packages (from gradio) (2.15.1)\n",
      "Requirement already satisfied: jsonschema>=3.0 in /apps/easybd/easybuild/software/Miniconda3/4.9.2/lib/python3.8/site-packages (from altair>=4.2.0->gradio) (4.17.3)\n",
      "Requirement already satisfied: typing-extensions>=4.0.1 in /home/projects/dharel/eranbe/.local/lib/python3.8/site-packages (from altair>=4.2.0->gradio) (4.7.1)\n",
      "Requirement already satisfied: toolz in /apps/easybd/easybuild/software/Miniconda3/4.9.2/lib/python3.8/site-packages (from altair>=4.2.0->gradio) (0.12.0)\n",
      "Requirement already satisfied: packaging in /apps/easybd/easybuild/software/Miniconda3/4.9.2/lib/python3.8/site-packages (from gradio-client>=0.2.7->gradio) (23.1)\n",
      "Requirement already satisfied: fsspec in /home/projects/dharel/eranbe/.local/lib/python3.8/site-packages (from gradio-client>=0.2.7->gradio) (2023.6.0)\n",
      "Requirement already satisfied: filelock in /apps/easybd/easybuild/software/Miniconda3/4.9.2/lib/python3.8/site-packages (from huggingface-hub>=0.14.0->gradio) (3.6.0)\n",
      "Requirement already satisfied: tqdm>=4.42.1 in /home/projects/dharel/eranbe/.local/lib/python3.8/site-packages (from huggingface-hub>=0.14.0->gradio) (4.65.0)\n",
      "Requirement already satisfied: mdurl~=0.1 in /home/projects/dharel/eranbe/.local/lib/python3.8/site-packages (from markdown-it-py[linkify]>=2.0.0->gradio) (0.1.2)\n",
      "Requirement already satisfied: linkify-it-py<3,>=1 in /home/projects/dharel/eranbe/.local/lib/python3.8/site-packages (from markdown-it-py[linkify]>=2.0.0->gradio) (2.0.2)\n",
      "Requirement already satisfied: pytz>=2020.1 in /apps/easybd/easybuild/software/Miniconda3/4.9.2/lib/python3.8/site-packages (from pandas->gradio) (2023.3)\n",
      "Requirement already satisfied: python-dateutil>=2.8.2 in /apps/easybd/easybuild/software/Miniconda3/4.9.2/lib/python3.8/site-packages (from pandas->gradio) (2.8.2)\n",
      "Requirement already satisfied: tzdata>=2022.1 in /home/projects/dharel/eranbe/.local/lib/python3.8/site-packages (from pandas->gradio) (2023.3)\n",
      "Requirement already satisfied: click>=7.0 in /home/projects/dharel/eranbe/.local/lib/python3.8/site-packages (from uvicorn>=0.14.0->gradio) (8.1.4)\n",
      "Requirement already satisfied: h11>=0.8 in /home/projects/dharel/eranbe/.local/lib/python3.8/site-packages (from uvicorn>=0.14.0->gradio) (0.14.0)\n",
      "Requirement already satisfied: attrs>=17.3.0 in /apps/easybd/easybuild/software/Miniconda3/4.9.2/lib/python3.8/site-packages (from aiohttp->gradio) (23.1.0)\n",
      "Requirement already satisfied: charset-normalizer<4.0,>=2.0 in /home/projects/dharel/eranbe/.local/lib/python3.8/site-packages (from aiohttp->gradio) (3.2.0)\n",
      "Requirement already satisfied: aiosignal>=1.1.2 in /home/projects/dharel/eranbe/.local/lib/python3.8/site-packages (from aiohttp->gradio) (1.3.1)\n",
      "Requirement already satisfied: multidict<7.0,>=4.5 in /home/projects/dharel/eranbe/.local/lib/python3.8/site-packages (from aiohttp->gradio) (6.0.4)\n",
      "Requirement already satisfied: async-timeout<5.0,>=4.0.0a3 in /home/projects/dharel/eranbe/.local/lib/python3.8/site-packages (from aiohttp->gradio) (4.0.2)\n",
      "Requirement already satisfied: yarl<2.0,>=1.0 in /home/projects/dharel/eranbe/.local/lib/python3.8/site-packages (from aiohttp->gradio) (1.9.2)\n",
      "Requirement already satisfied: frozenlist>=1.1.1 in /home/projects/dharel/eranbe/.local/lib/python3.8/site-packages (from aiohttp->gradio) (1.3.3)\n",
      "Requirement already satisfied: starlette<0.28.0,>=0.27.0 in /home/projects/dharel/eranbe/.local/lib/python3.8/site-packages (from fastapi->gradio) (0.27.0)\n",
      "Requirement already satisfied: annotated-types>=0.4.0 in /home/projects/dharel/eranbe/.local/lib/python3.8/site-packages (from pydantic->gradio) (0.5.0)\n",
      "Requirement already satisfied: pydantic-core==2.1.2 in /home/projects/dharel/eranbe/.local/lib/python3.8/site-packages (from pydantic->gradio) (2.1.2)\n"
     ]
    },
    {
     "name": "stdout",
     "output_type": "stream",
     "text": [
      "Requirement already satisfied: certifi in /apps/easybd/easybuild/software/Miniconda3/4.9.2/lib/python3.8/site-packages (from httpx->gradio) (2023.5.7)\n",
      "Requirement already satisfied: sniffio in /apps/easybd/easybuild/software/Miniconda3/4.9.2/lib/python3.8/site-packages (from httpx->gradio) (1.3.0)\n",
      "Requirement already satisfied: httpcore<0.18.0,>=0.15.0 in /home/projects/dharel/eranbe/.local/lib/python3.8/site-packages (from httpx->gradio) (0.17.3)\n",
      "Requirement already satisfied: idna in /apps/easybd/easybuild/software/Miniconda3/4.9.2/lib/python3.8/site-packages (from httpx->gradio) (2.10)\n",
      "Requirement already satisfied: cycler>=0.10 in /home/projects/dharel/eranbe/.local/lib/python3.8/site-packages (from matplotlib->gradio) (0.11.0)\n",
      "Requirement already satisfied: pyparsing<3.1,>=2.3.1 in /home/projects/dharel/eranbe/.local/lib/python3.8/site-packages (from matplotlib->gradio) (3.0.9)\n",
      "Requirement already satisfied: importlib-resources>=3.2.0 in /apps/easybd/easybuild/software/Miniconda3/4.9.2/lib/python3.8/site-packages (from matplotlib->gradio) (5.12.0)\n",
      "Requirement already satisfied: contourpy>=1.0.1 in /home/projects/dharel/eranbe/.local/lib/python3.8/site-packages (from matplotlib->gradio) (1.1.0)\n",
      "Requirement already satisfied: kiwisolver>=1.0.1 in /home/projects/dharel/eranbe/.local/lib/python3.8/site-packages (from matplotlib->gradio) (1.4.4)\n",
      "Requirement already satisfied: fonttools>=4.22.0 in /home/projects/dharel/eranbe/.local/lib/python3.8/site-packages (from matplotlib->gradio) (4.40.0)\n",
      "Requirement already satisfied: urllib3<3,>=1.21.1 in /apps/easybd/easybuild/software/Miniconda3/4.9.2/lib/python3.8/site-packages (from requests->gradio) (1.25.11)\n",
      "Requirement already satisfied: anyio<5.0,>=3.0 in /apps/easybd/easybuild/software/Miniconda3/4.9.2/lib/python3.8/site-packages (from httpcore<0.18.0,>=0.15.0->httpx->gradio) (3.6.2)\n",
      "Requirement already satisfied: zipp>=3.1.0 in /apps/easybd/easybuild/software/Miniconda3/4.9.2/lib/python3.8/site-packages (from importlib-resources>=3.2.0->matplotlib->gradio) (3.15.0)\n",
      "Requirement already satisfied: pyrsistent!=0.17.0,!=0.17.1,!=0.17.2,>=0.14.0 in /apps/easybd/easybuild/software/Miniconda3/4.9.2/lib/python3.8/site-packages (from jsonschema>=3.0->altair>=4.2.0->gradio) (0.18.0)\n",
      "Requirement already satisfied: pkgutil-resolve-name>=1.3.10 in /apps/easybd/easybuild/software/Miniconda3/4.9.2/lib/python3.8/site-packages (from jsonschema>=3.0->altair>=4.2.0->gradio) (1.3.10)\n",
      "Requirement already satisfied: uc-micro-py in /home/projects/dharel/eranbe/.local/lib/python3.8/site-packages (from linkify-it-py<3,>=1->markdown-it-py[linkify]>=2.0.0->gradio) (1.0.2)\n",
      "Requirement already satisfied: six>=1.5 in /apps/easybd/easybuild/software/Miniconda3/4.9.2/lib/python3.8/site-packages (from python-dateutil>=2.8.2->pandas->gradio) (1.15.0)\n",
      "\n",
      "\u001b[1m[\u001b[0m\u001b[34;49mnotice\u001b[0m\u001b[1;39;49m]\u001b[0m\u001b[39;49m A new release of pip available: \u001b[0m\u001b[31;49m22.2.2\u001b[0m\u001b[39;49m -> \u001b[0m\u001b[32;49m23.1.2\u001b[0m\n",
      "\u001b[1m[\u001b[0m\u001b[34;49mnotice\u001b[0m\u001b[1;39;49m]\u001b[0m\u001b[39;49m To update, run: \u001b[0m\u001b[32;49mpip install --upgrade pip\u001b[0m\n",
      "Defaulting to user installation because normal site-packages is not writeable\n",
      "Requirement already satisfied: ipywidgets in /home/projects/dharel/eranbe/.local/lib/python3.8/site-packages (8.0.7)\n",
      "Requirement already satisfied: widgetsnbextension~=4.0.7 in /home/projects/dharel/eranbe/.local/lib/python3.8/site-packages (from ipywidgets) (4.0.8)\n",
      "Requirement already satisfied: ipython>=6.1.0 in /apps/easybd/easybuild/software/Miniconda3/4.9.2/lib/python3.8/site-packages (from ipywidgets) (8.4.0)\n",
      "Requirement already satisfied: jupyterlab-widgets~=3.0.7 in /home/projects/dharel/eranbe/.local/lib/python3.8/site-packages (from ipywidgets) (3.0.8)\n",
      "Requirement already satisfied: traitlets>=4.3.1 in /apps/easybd/easybuild/software/Miniconda3/4.9.2/lib/python3.8/site-packages (from ipywidgets) (5.9.0)\n",
      "Requirement already satisfied: ipykernel>=4.5.1 in /apps/easybd/easybuild/software/Miniconda3/4.9.2/lib/python3.8/site-packages (from ipywidgets) (5.5.5)\n",
      "Requirement already satisfied: jupyter-client in /apps/easybd/easybuild/software/Miniconda3/4.9.2/lib/python3.8/site-packages (from ipykernel>=4.5.1->ipywidgets) (7.0.6)\n",
      "Requirement already satisfied: tornado>=4.2 in /apps/easybd/easybuild/software/Miniconda3/4.9.2/lib/python3.8/site-packages (from ipykernel>=4.5.1->ipywidgets) (6.1)\n",
      "Requirement already satisfied: setuptools>=18.5 in /apps/easybd/easybuild/software/Miniconda3/4.9.2/lib/python3.8/site-packages (from ipython>=6.1.0->ipywidgets) (50.3.1.post20201107)\n",
      "Requirement already satisfied: backcall in /apps/easybd/easybuild/software/Miniconda3/4.9.2/lib/python3.8/site-packages (from ipython>=6.1.0->ipywidgets) (0.2.0)\n",
      "Requirement already satisfied: pygments>=2.4.0 in /apps/easybd/easybuild/software/Miniconda3/4.9.2/lib/python3.8/site-packages (from ipython>=6.1.0->ipywidgets) (2.15.1)\n",
      "Requirement already satisfied: pickleshare in /apps/easybd/easybuild/software/Miniconda3/4.9.2/lib/python3.8/site-packages (from ipython>=6.1.0->ipywidgets) (0.7.5)\n",
      "Requirement already satisfied: jedi>=0.16 in /apps/easybd/easybuild/software/Miniconda3/4.9.2/lib/python3.8/site-packages (from ipython>=6.1.0->ipywidgets) (0.18.2)\n",
      "Requirement already satisfied: matplotlib-inline in /apps/easybd/easybuild/software/Miniconda3/4.9.2/lib/python3.8/site-packages (from ipython>=6.1.0->ipywidgets) (0.1.6)\n",
      "Requirement already satisfied: decorator in /apps/easybd/easybuild/software/Miniconda3/4.9.2/lib/python3.8/site-packages (from ipython>=6.1.0->ipywidgets) (5.1.1)\n",
      "Requirement already satisfied: pexpect>4.3 in /apps/easybd/easybuild/software/Miniconda3/4.9.2/lib/python3.8/site-packages (from ipython>=6.1.0->ipywidgets) (4.8.0)\n",
      "Requirement already satisfied: prompt-toolkit!=3.0.0,!=3.0.1,<3.1.0,>=2.0.0 in /apps/easybd/easybuild/software/Miniconda3/4.9.2/lib/python3.8/site-packages (from ipython>=6.1.0->ipywidgets) (3.0.38)\n",
      "Requirement already satisfied: stack-data in /apps/easybd/easybuild/software/Miniconda3/4.9.2/lib/python3.8/site-packages (from ipython>=6.1.0->ipywidgets) (0.6.2)\n",
      "Requirement already satisfied: parso<0.9.0,>=0.8.0 in /apps/easybd/easybuild/software/Miniconda3/4.9.2/lib/python3.8/site-packages (from jedi>=0.16->ipython>=6.1.0->ipywidgets) (0.8.3)\n",
      "Requirement already satisfied: ptyprocess>=0.5 in /apps/easybd/easybuild/software/Miniconda3/4.9.2/lib/python3.8/site-packages (from pexpect>4.3->ipython>=6.1.0->ipywidgets) (0.7.0)\n",
      "Requirement already satisfied: wcwidth in /apps/easybd/easybuild/software/Miniconda3/4.9.2/lib/python3.8/site-packages (from prompt-toolkit!=3.0.0,!=3.0.1,<3.1.0,>=2.0.0->ipython>=6.1.0->ipywidgets) (0.2.6)\n",
      "Requirement already satisfied: pyzmq>=13 in /apps/easybd/easybuild/software/Miniconda3/4.9.2/lib/python3.8/site-packages (from jupyter-client->ipykernel>=4.5.1->ipywidgets) (19.0.2)\n",
      "Requirement already satisfied: nest-asyncio>=1.5 in /apps/easybd/easybuild/software/Miniconda3/4.9.2/lib/python3.8/site-packages (from jupyter-client->ipykernel>=4.5.1->ipywidgets) (1.5.6)\n",
      "Requirement already satisfied: entrypoints in /apps/easybd/easybuild/software/Miniconda3/4.9.2/lib/python3.8/site-packages (from jupyter-client->ipykernel>=4.5.1->ipywidgets) (0.4)\n",
      "Requirement already satisfied: python-dateutil>=2.1 in /apps/easybd/easybuild/software/Miniconda3/4.9.2/lib/python3.8/site-packages (from jupyter-client->ipykernel>=4.5.1->ipywidgets) (2.8.2)\n",
      "Requirement already satisfied: jupyter-core>=4.6.0 in /apps/easybd/easybuild/software/Miniconda3/4.9.2/lib/python3.8/site-packages (from jupyter-client->ipykernel>=4.5.1->ipywidgets) (5.3.0)\n",
      "Requirement already satisfied: executing>=1.2.0 in /apps/easybd/easybuild/software/Miniconda3/4.9.2/lib/python3.8/site-packages (from stack-data->ipython>=6.1.0->ipywidgets) (1.2.0)\n",
      "Requirement already satisfied: asttokens>=2.1.0 in /apps/easybd/easybuild/software/Miniconda3/4.9.2/lib/python3.8/site-packages (from stack-data->ipython>=6.1.0->ipywidgets) (2.2.1)\n",
      "Requirement already satisfied: pure-eval in /apps/easybd/easybuild/software/Miniconda3/4.9.2/lib/python3.8/site-packages (from stack-data->ipython>=6.1.0->ipywidgets) (0.2.2)\n",
      "Requirement already satisfied: six in /apps/easybd/easybuild/software/Miniconda3/4.9.2/lib/python3.8/site-packages (from asttokens>=2.1.0->stack-data->ipython>=6.1.0->ipywidgets) (1.15.0)\n",
      "Requirement already satisfied: platformdirs>=2.5 in /apps/easybd/easybuild/software/Miniconda3/4.9.2/lib/python3.8/site-packages (from jupyter-core>=4.6.0->jupyter-client->ipykernel>=4.5.1->ipywidgets) (3.5.1)\n"
     ]
    },
    {
     "name": "stdout",
     "output_type": "stream",
     "text": [
      "\r\n",
      "\u001b[1m[\u001b[0m\u001b[34;49mnotice\u001b[0m\u001b[1;39;49m]\u001b[0m\u001b[39;49m A new release of pip available: \u001b[0m\u001b[31;49m22.2.2\u001b[0m\u001b[39;49m -> \u001b[0m\u001b[32;49m23.1.2\u001b[0m\r\n",
      "\u001b[1m[\u001b[0m\u001b[34;49mnotice\u001b[0m\u001b[1;39;49m]\u001b[0m\u001b[39;49m To update, run: \u001b[0m\u001b[32;49mpip install --upgrade pip\u001b[0m\r\n"
     ]
    }
   ],
   "source": [
    "\"\"\"\n",
    "!pip install tensorboard\n",
    "!pip install accelerate -U\n",
    "\n",
    "\n",
    "!pip install scipy\n",
    "!pip install datasets>=2.6.1\n",
    "!pip install git+https://github.com/huggingface/transformers\n",
    "!pip install librosa\n",
    "!pip install evaluate>=0.30\n",
    "!pip install jiwer\n",
    "!pip install gradio\n",
    "!pip install ipywidgets\n",
    "\"\"\""
   ]
  },
  {
   "cell_type": "code",
   "execution_count": 17,
   "id": "6b0f5677",
   "metadata": {},
   "outputs": [
    {
     "name": "stdout",
     "output_type": "stream",
     "text": [
      "Device: 0   NVIDIA A40\n"
     ]
    }
   ],
   "source": [
    "\n",
    "import torch\n",
    "if torch.cuda.is_available(): \n",
    "   device_count = torch.cuda.device_count()\n",
    "   for i in range(device_count):\n",
    "       print('Device:', i, ' ', torch.cuda.get_device_name(i))\n",
    "else:\n",
    "   print('No GPU available')\n",
    "\n"
   ]
  },
  {
   "cell_type": "code",
   "execution_count": 12,
   "id": "4815c4e7",
   "metadata": {},
   "outputs": [
    {
     "name": "stdout",
     "output_type": "stream",
     "text": [
      "Overwriting whisper4fsegmentation_focus_prototype__offline.py\n"
     ]
    }
   ],
   "source": [
    "%%writefile whisper4fsegmentation_focus_prototype__offline.py\n",
    "import sys\n",
    "\n",
    "import torch\n",
    "\n",
    "if torch.cuda.is_available(): \n",
    "   device_count = torch.cuda.device_count()\n",
    "   for i in range(device_count):\n",
    "       print('Device:', i, ' ', torch.cuda.get_device_name(i))\n",
    "else:\n",
    "   print('No GPU available')\n",
    "\n",
    "\n",
    "\n",
    "\n",
    "\n",
    "\n",
    "\n",
    "import pickle\n",
    "# Load the list from the file\n",
    "with open('/home/projects/dharel/eranbe/Eran/all_data_list_poc_segprotfoc_include21.pkl', 'rb') as f:\n",
    "    all_data_list = pickle.load(f)\n",
    "\n",
    "\n",
    "\n",
    "\n",
    "\n",
    "import pandas as pd\n",
    "import numpy as np\n",
    "\n",
    "\n",
    "df = pd.DataFrame(all_data_list)\n",
    "\n",
    "for index, row in df.iterrows():\n",
    "    row['audio']['array'] = np.array(row['audio']['array'], dtype=np.float32)\n",
    "\n",
    "\n",
    "from datasets import Dataset, DatasetDict\n",
    "\n",
    "\n",
    "#NEED TO SHUFFLE!!\n",
    "\n",
    "# Fix the random seed for shuffling\n",
    "seed = 42  # Or any other number you like\n",
    "\n",
    "train_df = df.iloc[:int(0.95*len(df))]\n",
    "train_df = train_df.sample(frac=1, random_state=seed).reset_index(drop=True)  # shuffle and reset index\n",
    "train_dataset = Dataset.from_pandas(train_df)\n",
    "\n",
    "\n",
    "\n",
    "# Create the Dataset objects\n",
    "#train_dataset = Dataset.from_pandas(df.iloc[:int(0.95*len(df))])\n",
    "\n",
    "\n",
    "\n",
    "\n",
    "test_dataset = Dataset.from_pandas(df.iloc[int(0.95*len(df)):])\n",
    "\n",
    "# Create the DatasetDict object\n",
    "dataset_dict = DatasetDict({\n",
    "    'train': train_dataset,\n",
    "    'test': test_dataset\n",
    "})\n",
    "\n",
    "\n",
    "from transformers import WhisperFeatureExtractor\n",
    "feature_extractor = WhisperFeatureExtractor.from_pretrained(\"openai/whisper-large-v2\")\n",
    "\n",
    "from transformers import WhisperTokenizer\n",
    "\n",
    "tokenizer = WhisperTokenizer.from_pretrained(\"openai/whisper-large-v2\", language=\"english\", task=\"transcribe\")\n",
    "\n",
    "\n",
    "from transformers import WhisperProcessor\n",
    "\n",
    "processor = WhisperProcessor.from_pretrained(\"openai/whisper-large-v2\", language=\"english\", task=\"transcribe\")\n",
    "\n",
    "\n",
    "#need to trancate sequence ,model works only with 1024 token.\n",
    "#@@@@@@@@@@\n",
    "#@@@@@@@@@@\n",
    "#$$$$$$$$$$$$$$$$$\n",
    "#MAX_LENGTH = 1024\n",
    "def prepare_dataset(batch):\n",
    "    # load and resample audio data from 48 to 16kHz\n",
    "    audio = batch[\"audio\"]\n",
    "\n",
    "    # compute log-Mel input features from input audio array \n",
    "    batch[\"input_features\"] = feature_extractor(audio[\"array\"], sampling_rate=audio[\"sampling_rate\"]).input_features[0]\n",
    "    # truncate target text to a maximum length\n",
    "    #sentence = batch[\"sentence\"][:MAX_LENGTH]\n",
    "    sentence = batch[\"sentence\"]\n",
    "        \n",
    "    # compute input length of audio sample in seconds\n",
    "    batch[\"input_length\"] = len(audio[\"array\"]) / audio[\"sampling_rate\"]\n",
    "    # encode target text to label ids \n",
    "    labels_ids = tokenizer(sentence).input_ids\n",
    "    # truncate labels to a maximum length\n",
    "    #labels_ids = labels_ids[:MAX_LENGTH]\n",
    "    batch[\"labels\"] = labels_ids\n",
    "    return batch\n",
    "\n",
    "\n",
    "dataset = dataset_dict.map(prepare_dataset, remove_columns=dataset_dict.column_names[\"train\"], num_proc=4)\n",
    "max_input_length = 30\n",
    "min_input_length = 0\n",
    "\n",
    "\n",
    "def is_audio_in_length_range(length):\n",
    "    return length > min_input_length and length <= max_input_length\n",
    "\n",
    "vectorized_datasets = dataset.filter(\n",
    "    is_audio_in_length_range, num_proc=4, input_columns=[\"input_length\"]\n",
    ")\n",
    "\n",
    "vectorized_datasets\n",
    "from transformers import WhisperForConditionalGeneration\n",
    "\n",
    "model = WhisperForConditionalGeneration.from_pretrained(\"openai/whisper-large-v2\")\n",
    "\n",
    "model.config.max_length\n",
    "model.config.forced_decoder_ids = processor.get_decoder_prompt_ids(language=\"english\", task=\"transcribe\")\n",
    "\n",
    "model.config.suppress_tokens = []\n",
    "max_label_length = model.config.max_length\n",
    "max_label_length\n",
    "def is_labels_in_length_range(labels):\n",
    "    return len(labels) < max_label_length\n",
    "vectorized_datasets = vectorized_datasets.filter(\n",
    "    is_labels_in_length_range, num_proc=4, input_columns=[\"labels\"]\n",
    ")\n",
    "\n",
    "vectorized_datasets\n",
    "common_voice = vectorized_datasets\n",
    "\n",
    "\n",
    "import torch\n",
    "\n",
    "from dataclasses import dataclass\n",
    "from typing import Any, Dict, List, Union\n",
    "\n",
    "@dataclass\n",
    "class DataCollatorSpeechSeq2SeqWithPadding:\n",
    "    processor: Any\n",
    "\n",
    "    def __call__(self, features: List[Dict[str, Union[List[int], torch.Tensor]]]) -> Dict[str, torch.Tensor]:\n",
    "        # split inputs and labels since they have to be of different lengths and need different padding methods\n",
    "        # first treat the audio inputs by simply returning torch tensors\n",
    "        input_features = [{\"input_features\": feature[\"input_features\"]} for feature in features]\n",
    "        batch = self.processor.feature_extractor.pad(input_features, return_tensors=\"pt\")\n",
    "\n",
    "        # get the tokenized label sequences\n",
    "        label_features = [{\"input_ids\": feature[\"labels\"]} for feature in features]\n",
    "        # pad the labels to max length\n",
    "        labels_batch = self.processor.tokenizer.pad(label_features, return_tensors=\"pt\")\n",
    "\n",
    "        # replace padding with -100 to ignore loss correctly\n",
    "        labels = labels_batch[\"input_ids\"].masked_fill(labels_batch.attention_mask.ne(1), -100)\n",
    "\n",
    "        # if bos token is appended in previous tokenization step,\n",
    "        # cut bos token here as it's append later anyways\n",
    "        if (labels[:, 0] == self.processor.tokenizer.bos_token_id).all().cpu().item():\n",
    "            labels = labels[:, 1:]\n",
    "\n",
    "        batch[\"labels\"] = labels\n",
    "\n",
    "        return batch\n",
    "    \n",
    "    \n",
    "data_collator = DataCollatorSpeechSeq2SeqWithPadding(processor=processor)\n",
    "\n",
    "import evaluate\n",
    "\n",
    "metric = evaluate.load(\"wer\")\n",
    "\n",
    "def compute_metrics(pred):\n",
    "    pred_ids = pred.predictions\n",
    "    label_ids = pred.label_ids\n",
    "\n",
    "    # replace -100 with the pad_token_id\n",
    "    label_ids[label_ids == -100] = tokenizer.pad_token_id\n",
    "\n",
    "    # we do not want to group tokens when computing the metrics\n",
    "    pred_str = tokenizer.batch_decode(pred_ids, skip_special_tokens=True)\n",
    "    label_str = tokenizer.batch_decode(label_ids, skip_special_tokens=True)\n",
    "\n",
    "    wer = 100 * metric.compute(predictions=pred_str, references=label_str)\n",
    "\n",
    "    return {\"wer\": wer}\n",
    "\n",
    "from transformers import Seq2SeqTrainingArguments\n",
    "\n",
    "training_args = Seq2SeqTrainingArguments(\n",
    "    output_dir = \"/home/projects/dharel/eranbe/Eran/whisper_seg_focus_prototype_wexac_17_07_2023_v2booya_offline\",\n",
    "    #output_dir=\"/content/drive/MyDrive/Weizmann/SBC1to60/whisper-large-v2-English2segmentation_v1_2023\",  # change to a repo name of your choice\n",
    "    per_device_train_batch_size=1,\n",
    "    gradient_accumulation_steps=16,  # increase by 2x for every 2x decrease in batch size\n",
    "    learning_rate=1e-5,\n",
    "    warmup_steps=500,\n",
    "    max_steps=6000,\n",
    "    gradient_checkpointing=True,\n",
    "    fp16=True,\n",
    "    evaluation_strategy=\"steps\",\n",
    "    per_device_eval_batch_size=1,\n",
    "    predict_with_generate=True,\n",
    "    generation_max_length=225,\n",
    "    save_steps=1000,\n",
    "    eval_steps=1000,\n",
    "    logging_steps=25,\n",
    "    report_to=[\"tensorboard\"],\n",
    "    load_best_model_at_end=True,\n",
    "    metric_for_best_model=\"wer\",\n",
    "    greater_is_better=False,\n",
    "    push_to_hub=False,\n",
    ")\n",
    "\n",
    "\n",
    "from transformers import Seq2SeqTrainer\n",
    "\n",
    "trainer = Seq2SeqTrainer(\n",
    "    args=training_args,\n",
    "    model=model,\n",
    "    train_dataset=common_voice[\"train\"],\n",
    "    eval_dataset=common_voice[\"test\"],\n",
    "    data_collator=data_collator,\n",
    "    compute_metrics=compute_metrics,\n",
    "    tokenizer=processor.feature_extractor,\n",
    ")\n",
    "\n",
    "\n",
    "processor.save_pretrained(training_args.output_dir)\n",
    "\n",
    "trainer.train()\n",
    "\n",
    "\n",
    "print(f\"your argument is {sys.argv[1]}\")"
   ]
  },
  {
   "cell_type": "code",
   "execution_count": 55,
   "id": "fb5eb874",
   "metadata": {},
   "outputs": [
    {
     "name": "stdout",
     "output_type": "stream",
     "text": [
      "Overwriting whisper4fsegmentation_focus_prototype__offline.sh\n"
     ]
    }
   ],
   "source": [
    "%%writefile whisper4fsegmentation_focus_prototype__offline.sh\n",
    "bsub <<EOT\n",
    "#!/bin/bash\n",
    "#BSUB -gpu num=1:j_exclusive=yes:gmem=30G\n",
    "#BSUB -R rusage[mem=32000]\n",
    "#BSUB -q gpu-long -m hgn_2022_hosts gmodel=NVIDIAA100\n",
    "#BSUB --job-name=booya # Job name\n",
    "#BSUB --output=/home/projects/dharel/eranbe/Eran/whisper4fsegmentation_focus_prototype__offline${1}.log # Standard output and error log (mind the log)\n",
    "#BSUB --time=24:00:00 # Time limitation (here 15 minutes)\n",
    "#BSUB --mail-user=your@mail # Email address for notification sending\n",
    "#BSUB --mail-type=END,FAIL # When to send email notification\n",
    "\n",
    "python /home/projects/dharel/eranbe/Eran/whisper4fsegmentation_focus_prototype__offline.py ${1}\n",
    "EOT"
   ]
  },
  {
   "cell_type": "code",
   "execution_count": 56,
   "id": "58fdca09",
   "metadata": {},
   "outputs": [
    {
     "name": "stdout",
     "output_type": "stream",
     "text": [
      "Please note that memory reservation is per task (-n X)\r\n",
      "Memory reservation is (MB): 32000 \r\n",
      "===Your total amount of memory reservation for this job is (MB): 32000 ===\r\n",
      "Job <673451> is submitted to queue <gpu-long>.\r\n"
     ]
    }
   ],
   "source": [
    "!bash whisper4fsegmentation_focus_prototype__offline.sh \"6000_v3\""
   ]
  },
  {
   "cell_type": "code",
   "execution_count": null,
   "id": "af143a5e",
   "metadata": {},
   "outputs": [],
   "source": []
  },
  {
   "cell_type": "code",
   "execution_count": null,
   "id": "905d0b22",
   "metadata": {},
   "outputs": [],
   "source": []
  },
  {
   "cell_type": "code",
   "execution_count": null,
   "id": "ea363010",
   "metadata": {},
   "outputs": [],
   "source": []
  },
  {
   "cell_type": "code",
   "execution_count": null,
   "id": "3ef687e2",
   "metadata": {},
   "outputs": [],
   "source": []
  },
  {
   "cell_type": "code",
   "execution_count": 2,
   "id": "1cfb3173",
   "metadata": {},
   "outputs": [
    {
     "name": "stdout",
     "output_type": "stream",
     "text": [
      "JOBID      USER    STAT  QUEUE      FROM_HOST   EXEC_HOST   JOB_NAME   SUBMIT_TIME\r\n",
      "920068     eranbe  RUN   new-intera access1     cn653       *upyterhub Jul 21 12:44\r\n",
      "927269     eranbe  RUN   gpu-intera access      gaccess07   *upyterhub Jul 21 18:11\r\n"
     ]
    }
   ],
   "source": [
    "!bjobs"
   ]
  },
  {
   "cell_type": "code",
   "execution_count": 4,
   "id": "ff172400",
   "metadata": {},
   "outputs": [
    {
     "name": "stdout",
     "output_type": "stream",
     "text": [
      "Job <920058> is not found\r\n"
     ]
    }
   ],
   "source": [
    "!bpeek 920058"
   ]
  },
  {
   "cell_type": "code",
   "execution_count": 80,
   "id": "c5f0fe5d",
   "metadata": {},
   "outputs": [
    {
     "name": "stdout",
     "output_type": "stream",
     "text": [
      "\r\n",
      "Job <673451>, User <eranbe>, Project <default>, User Group <dharel-wx-grp-lsf>,\r\n",
      "                     Status <RUN>, Queue <gpu-long>, Job Priority <50>, Command\r\n",
      "                      <#!/bin/bash;#BSUB -gpu num=1:j_exclusive=yes:gmem=38G;#B\r\n",
      "                     SUB -R rusage[mem=32000];#BSUB -q gpu-long -m hgn_2022_hos\r\n",
      "                     ts gmodel=NVIDIAA100;#BSUB --job-name=booya # Job name;#BS\r\n",
      "                     UB --output=/home/projects/dharel/eranbe/Eran/whisper4fseg\r\n",
      "                     mentation_focus_prototype__offline6000_v3.log # Standard o\r\n",
      "                     utput and error log (mind the log);#BSUB --time=24:00:00 #\r\n",
      "                      Time limitation (here 15 minutes);#BSUB --mail-user=your@\r\n",
      "                     mail # Email address for notification sending;#BSUB --mail\r\n",
      "                     -type=END,FAIL # When to send email notification; python /\r\n",
      "                     home/projects/dharel/eranbe/Eran/whisper4fsegmentation_foc\r\n",
      "                     us_prototype__offline.py 6000_v3>, Share group charged </e\r\n",
      "                     ranbe>, Esub <mem nonre group gpu>\r\n",
      "Mon Jul 17 14:57:27: Submitted from host <cn651>, CWD <$HOME/Eran>, Re-runnable\r\n",
      "                     , Requested Resources <rusage[mem=32000]>, Specified Hosts\r\n",
      "                      <hgn_2022_hosts>, Requested GPU <num=1:j_exclusive=yes:gm\r\n",
      "                     em=38912.00>;\r\n",
      "Mon Jul 17 14:57:29: Started 1 Task(s) on Host(s) <hgn38>, Allocated 1 Slot(s) \r\n",
      "                     on Host(s) <hgn38>, Execution Home </home/projects/dharel/\r\n",
      "                     eranbe>, Execution CWD </home/projects/dharel/eranbe/Eran>\r\n",
      "                     ;\r\n",
      "Mon Jul 17 15:05:20: Resource usage collected.\r\n",
      "                     The CPU time used is 458 seconds.\r\n",
      "                     MEM: 14 Gbytes;  SWAP: 0 Mbytes;  NTHREAD: 70\r\n",
      "                     PGID: 55781;  PIDs: 55781 55817 55824 55825 \r\n",
      "\r\n",
      " RUNLIMIT                \r\n",
      " 5760.0 min\r\n",
      "\r\n",
      " MEMLIMIT\r\n",
      "   31.2 G \r\n",
      "\r\n",
      " MEMORY USAGE:\r\n",
      " MAX MEM: 21 Gbytes;  AVG MEM: 10.4 Gbytes; MEM Efficiency: 67.25%\r\n",
      "\r\n",
      " CPU USAGE:\r\n",
      " CPU PEAK: 1.02 ;  CPU PEAK DURATION: 63 second(s)\r\n",
      " CPU AVERAGE EFFICIENCY: 97.08% ;  CPU PEAK EFFICIENCY: 101.59%\r\n",
      "\r\n",
      " SCHEDULING PARAMETERS:\r\n",
      "           r15s   r1m  r15m   ut      pg    io   ls    it    tmp    swp    mem\r\n",
      " loadSched   -     -     -     -       -     -    -     -     -      -      -  \r\n",
      " loadStop    -     -     -     -       -     -    -     -     -      -      -  \r\n",
      "\r\n",
      " EXTERNAL MESSAGES:\r\n",
      " MSG_ID FROM       POST_TIME      MESSAGE                             ATTACHMENT \r\n",
      " 0      eranbe     Jul 17 14:57   hgn38:gpus=4;                           N     \r\n",
      "\r\n",
      " RESOURCE REQUIREMENT DETAILS:\r\n",
      " Combined: select[(type = any ) && (type == any)] order[-slots:-ngpus_physical]\r\n",
      "                      rusage[mem=32000.00] affinity[core(1)*1]\r\n",
      " Effective: select[(((type = any ) && (type == any))) && (ngpus>0)] order[-slot\r\n",
      "                     s:-ngpus_physical] rusage[mem=32000.00,ngpus_physical=1.00\r\n",
      "                     :gmem=38912.00] affinity[core(1)*1] \r\n",
      "\r\n",
      " GPU REQUIREMENT DETAILS:\r\n",
      " Combined: num=1:mode=shared:mps=no:j_exclusive=yes:gmem=38912.00:aff=no:gvendo\r\n",
      "                     r=nvidia\r\n",
      " Effective: num=1:mode=shared:mps=no:j_exclusive=yes:gmem=38912.00:aff=no:gvend\r\n",
      "                     or=nvidia\r\n",
      "\r\n",
      " GPU_ALLOCATION:\r\n",
      " HOST             TASK GPU_ID  GI_ID/SIZE    CI_ID/SIZE    MODEL        MTOTAL  FACTOR MRSV    SOCKET NVLINK/XGMI                      \r\n",
      " hgn38            0    4       -             -             NVIDIAA40    44.9G   8.6    38G     0      -                               \r\n",
      "\r\n"
     ]
    }
   ],
   "source": [
    "!bjobs -l -gpu 673451"
   ]
  },
  {
   "cell_type": "code",
   "execution_count": 35,
   "id": "cfd63e5c",
   "metadata": {
    "scrolled": true
   },
   "outputs": [
    {
     "name": "stdout",
     "output_type": "stream",
     "text": [
      "\r\n",
      "Job <673396>, User <eranbe>, Project <default>, User Group <dharel-wx-grp-lsf>,\r\n",
      "                     Status <PEND>, Queue <gpu-long>, Job Priority <52>, Comman\r\n",
      "                     d <#!/bin/bash;#BSUB -gpu num=1:j_exclusive=yes:gmem=46G;#\r\n",
      "                     BSUB -R rusage[mem=32000];#BSUB -q gpu-long -m hgn_2022_ho\r\n",
      "                     sts gmodel=NVIDIAA100;#BSUB --job-name=booya # Job name;#B\r\n",
      "                     SUB --output=/home/projects/dharel/eranbe/Eran/whisper4fse\r\n",
      "                     gmentation_focus_prototype__offline6000_v3.log # Standard \r\n",
      "                     output and error log (mind the log);#BSUB --time=12:00:00 \r\n",
      "                     # Time limitation (here 15 minutes);#BSUB --mail-user=your\r\n",
      "                     @mail # Email address for notification sending;#BSUB --mai\r\n",
      "                     l-type=END,FAIL # When to send email notification; python \r\n",
      "                     /home/projects/dharel/eranbe/Eran/whisper4fsegmentation_fo\r\n",
      "                     cus_prototype__offline.py 6000_v3>, Esub <mem nonre group \r\n",
      "                     gpu>\r\n",
      "Mon Jul 17 14:42:07: Submitted from host <cn651>, CWD <$HOME/Eran>, Re-runnable\r\n",
      "                     , Requested Resources <rusage[mem=32000]>, Specified Hosts\r\n",
      "                      <hgn_2022_hosts>, Requested GPU <num=1:j_exclusive=yes:gm\r\n",
      "                     em=47104.00>;\r\n",
      " PENDING REASONS:\r\n",
      " Job requirements for reserving resource (mem) not satisfied: 2 hosts;\r\n",
      "\r\n",
      " RUNLIMIT                \r\n",
      " 5760.0 min\r\n",
      "\r\n",
      " MEMLIMIT\r\n",
      "   31.2 G \r\n",
      "\r\n",
      " SCHEDULING PARAMETERS:\r\n",
      "           r15s   r1m  r15m   ut      pg    io   ls    it    tmp    swp    mem\r\n",
      " loadSched   -     -     -     -       -     -    -     -     -      -      -  \r\n",
      " loadStop    -     -     -     -       -     -    -     -     -      -      -  \r\n",
      "\r\n",
      " RESOURCE REQUIREMENT DETAILS:\r\n",
      " Combined: select[(type = any ) && (type == any)] order[-slots:-ngpus_physical]\r\n",
      "                      rusage[mem=32000.00] affinity[core(1)*1]\r\n",
      " Effective: -\r\n",
      "\r\n",
      " GPU REQUIREMENT DETAILS:\r\n",
      " Combined: num=1:mode=shared:mps=no:j_exclusive=yes:gmem=47104.00:aff=no:gvendo\r\n",
      "                     r=nvidia\r\n",
      " Effective: -\r\n",
      "\r\n"
     ]
    }
   ],
   "source": [
    "!bjobs -l -gpu 673396"
   ]
  },
  {
   "cell_type": "code",
   "execution_count": 83,
   "id": "0bbb071d",
   "metadata": {
    "scrolled": true
   },
   "outputs": [
    {
     "name": "stdout",
     "output_type": "stream",
     "text": [
      "Job <673451> is being terminated\r\n"
     ]
    }
   ],
   "source": [
    "!bkill asda"
   ]
  },
  {
   "cell_type": "code",
   "execution_count": 225,
   "id": "760444be",
   "metadata": {
    "scrolled": true
   },
   "outputs": [
    {
     "name": "stdout",
     "output_type": "stream",
     "text": [
      "No resource usage found.\r\n"
     ]
    }
   ],
   "source": [
    "!blimits -q gsla-gpu"
   ]
  },
  {
   "cell_type": "code",
   "execution_count": null,
   "id": "bf2d6b4c",
   "metadata": {
    "scrolled": true
   },
   "outputs": [],
   "source": []
  },
  {
   "cell_type": "code",
   "execution_count": null,
   "id": "845c55c0-566b-4bf1-9599-410c043e4709",
   "metadata": {},
   "outputs": [],
   "source": []
  },
  {
   "cell_type": "code",
   "execution_count": null,
   "id": "0c8ccb3b-1d60-4638-adc6-7220ddf1b219",
   "metadata": {},
   "outputs": [],
   "source": []
  },
  {
   "cell_type": "code",
   "execution_count": 231,
   "id": "695cc005-a764-4486-8b3c-f82236f849bb",
   "metadata": {},
   "outputs": [],
   "source": [
    "# INTERACTIVE"
   ]
  },
  {
   "cell_type": "code",
   "execution_count": 19,
   "id": "1907380e-11bd-4c65-bbc7-6eb62c556747",
   "metadata": {},
   "outputs": [
    {
     "name": "stdout",
     "output_type": "stream",
     "text": [
      "Overwriting whisper4fsegmentation_focus_prototype__offline.sh\n"
     ]
    }
   ],
   "source": [
    "%%writefile whisper4fsegmentation_focus_prototype__offline.sh\n",
    "bsub <<EOT\n",
    "#!/bin/bash\n",
    "#BSUB -gpu num=1:j_exclusive=yes:gmem=46G\n",
    "#BSUB -R rusage[mem=32000]\n",
    "#BSUB -q gpu-interactive -m hgn_2022_hosts gmodel=NVIDIAA40\n",
    "#BSUB --job-name=booya # Job name\n",
    "#BSUB --output=/home/projects/dharel/eranbe/Eran/whisper4fsegmentation_focus_prototype__offline${1}.log # Standard output and error log (mind the log)\n",
    "#BSUB --time=12:00:00 # Time limitation (here 15 minutes)\n",
    "#BSUB --mail-user=your@mail # Email address for notification sending\n",
    "#BSUB --mail-type=END,FAIL # When to send email notification\n",
    "\n",
    "python /home/projects/dharel/eranbe/Eran/whisper4fsegmentation_focus_prototype__offline.py ${1}\n",
    "EOT"
   ]
  },
  {
   "cell_type": "code",
   "execution_count": 20,
   "id": "6aa49b04-0ce7-4630-9e9a-4092b5215b58",
   "metadata": {},
   "outputs": [
    {
     "name": "stdout",
     "output_type": "stream",
     "text": [
      "Memory reservation is (MB): 32000\n",
      "Memory Limit is (MB): 32000\n",
      "\n",
      "===Your total amount of memory reservation for this job is (MB): 32000 ===\n",
      "\n",
      "Job <673408> is submitted to queue <gpu-interactive>.\n"
     ]
    }
   ],
   "source": [
    "!bash whisper4fsegmentation_focus_prototype__offline.sh \"6000_v3\""
   ]
  },
  {
   "cell_type": "code",
   "execution_count": 36,
   "id": "09ba3667-79db-4b82-923c-e89b8d771c44",
   "metadata": {},
   "outputs": [
    {
     "name": "stdout",
     "output_type": "stream",
     "text": [
      "JOBID      USER    STAT  QUEUE      FROM_HOST   EXEC_HOST   JOB_NAME   SUBMIT_TIME\r\n",
      "673243     eranbe  RUN   new-intera access1     cn651       *upyterhub Jul 17 14:30\r\n",
      "673408     eranbe  PEND  gpu-intera cn651                   *y 6000_v3 Jul 17 14:44\r\n",
      "673396     eranbe  PEND  gpu-long   cn651                   *y 6000_v3 Jul 17 14:42\r\n"
     ]
    }
   ],
   "source": [
    "!bjobs"
   ]
  },
  {
   "cell_type": "code",
   "execution_count": 28,
   "id": "d38871af-ddfe-415b-a5e8-28e8ac485a87",
   "metadata": {},
   "outputs": [
    {
     "name": "stdout",
     "output_type": "stream",
     "text": [
      "Job <673408> : Not yet started.\r\n"
     ]
    }
   ],
   "source": [
    "!bpeek 673408"
   ]
  },
  {
   "cell_type": "code",
   "execution_count": 29,
   "id": "4b55cc42-4cb5-4ed2-8d80-fc94f29c95a5",
   "metadata": {},
   "outputs": [
    {
     "name": "stdout",
     "output_type": "stream",
     "text": [
      "JOBID      USER    STAT  QUEUE      FROM_HOST   EXEC_HOST   JOB_NAME   SUBMIT_TIME\r\n",
      "673408     eranbe  PEND  gpu-intera cn651                   *y 6000_v3 Jul 17 14:44\r\n",
      " Candidate host pending reasons (15 of 546 hosts):\r\n",
      "   Not enough GPUs with the required memory on the hosts: 11 hosts;\r\n",
      "   Job's requirements for resource reservation not satisfied (Resource: mem): 2 hosts;\r\n",
      "   Host's available GPU resources cannot meet the job's requirements: 1 host;\r\n",
      "   Job's requirements for resource reservation not satisfied (Resource: ngpus_physical): 1 host;\r\n"
     ]
    }
   ],
   "source": [
    "!bjobs -p2 673408"
   ]
  },
  {
   "cell_type": "code",
   "execution_count": 30,
   "id": "b97dc0df-3f6e-4542-9941-460640a917ed",
   "metadata": {},
   "outputs": [
    {
     "name": "stdout",
     "output_type": "stream",
     "text": [
      "\r\n",
      "Job <673408>, User <eranbe>, Project <default>, User Group <dharel-wx-grp-lsf>,\r\n",
      "                     Status <PEND>, Queue <gpu-interactive>, Job Priority <50>,\r\n",
      "                     Command <#!/bin/bash;#BSUB -gpu num=1:j_exclusive=yes:gmem\r\n",
      "                     =46G;#BSUB -R rusage[mem=32000];#BSUB -q gpu-interactive -\r\n",
      "                     m hgn_2022_hosts gmodel=NVIDIAA40;#BSUB --job-name=booya #\r\n",
      "                      Job name;#BSUB --output=/home/projects/dharel/eranbe/Eran\r\n",
      "                     /whisper4fsegmentation_focus_prototype__offline6000_v3.log\r\n",
      "                      # Standard output and error log (mind the log);#BSUB --ti\r\n",
      "                     me=12:00:00 # Time limitation (here 15 minutes);#BSUB --ma\r\n",
      "                     il-user=your@mail # Email address for notification sending\r\n",
      "                     ;#BSUB --mail-type=END,FAIL # When to send email notificat\r\n",
      "                     ion; python /home/projects/dharel/eranbe/Eran/whisper4fseg\r\n",
      "                     mentation_focus_prototype__offline.py 6000_v3>, Esub <mem \r\n",
      "                     nonre group gpu>\r\n",
      "Mon Jul 17 14:44:50: Submitted from host <cn651>, CWD <$HOME/Eran>, Re-runnable\r\n",
      "                     , Requested Resources < rusage[mem=32000]>, Specified Host\r\n",
      "                     s <hgn_2022_hosts>, Requested GPU <num=1:j_exclusive=yes:g\r\n",
      "                     mem=47104.00>;\r\n",
      " PENDING REASONS:\r\n",
      " Job requirements for reserving resource (mem) not satisfied: 2 hosts;\r\n",
      "\r\n",
      " RUNLIMIT                \r\n",
      " 1440.0 min\r\n",
      "\r\n",
      " MEMLIMIT\r\n",
      "   31.2 G \r\n",
      "\r\n",
      " SCHEDULING PARAMETERS:\r\n",
      "           r15s   r1m  r15m   ut      pg    io   ls    it    tmp    swp    mem\r\n",
      " loadSched   -     -     -     -       -     -    -     -     -      -      -  \r\n",
      " loadStop    -     -     -     -       -     -    -     -     -      -      -  \r\n",
      "\r\n",
      " RESOURCE REQUIREMENT DETAILS:\r\n",
      " Combined: select[(type = any ) && (type == any)] order[-slots:-ngpus_physical]\r\n",
      "                      rusage[mem=32000.00]\r\n",
      " Effective: -\r\n",
      "\r\n",
      " GPU REQUIREMENT DETAILS:\r\n",
      " Combined: num=1:mode=shared:mps=no:j_exclusive=yes:gmem=47104.00:gvendor=nvidi\r\n",
      "                     a\r\n",
      " Effective: -\r\n",
      "\r\n"
     ]
    }
   ],
   "source": [
    "!bjobs -l -gpu 673408"
   ]
  },
  {
   "cell_type": "code",
   "execution_count": null,
   "id": "a533f40e",
   "metadata": {},
   "outputs": [],
   "source": [
    "!bkill 668984"
   ]
  },
  {
   "cell_type": "code",
   "execution_count": 1,
   "id": "31b393cf-7e0a-4448-ac3b-abbd5377267f",
   "metadata": {},
   "outputs": [],
   "source": [
    "#from datasets import Audio\n",
    "\n",
    "#dataset_dict = dataset_dict.cast_column(\"audio\", Audio(sampling_rate=16000))"
   ]
  },
  {
   "cell_type": "code",
   "execution_count": null,
   "id": "2749b83b-b266-40ee-9c55-3de318e2f1d6",
   "metadata": {},
   "outputs": [],
   "source": []
  },
  {
   "cell_type": "code",
   "execution_count": null,
   "id": "d430bc38-cd97-48e9-a305-e363ffe6fea6",
   "metadata": {},
   "outputs": [],
   "source": []
  },
  {
   "cell_type": "code",
   "execution_count": null,
   "id": "c3a42ce5",
   "metadata": {},
   "outputs": [],
   "source": []
  },
  {
   "cell_type": "code",
   "execution_count": null,
   "id": "bfa00299-98ac-434d-92e2-61243596b16d",
   "metadata": {},
   "outputs": [],
   "source": []
  },
  {
   "cell_type": "code",
   "execution_count": null,
   "id": "055f97c9-dd83-4d30-b329-0973e5b2fbe7",
   "metadata": {},
   "outputs": [],
   "source": []
  },
  {
   "cell_type": "code",
   "execution_count": null,
   "id": "3adfe102-3cca-4ced-a52d-9a394878e27c",
   "metadata": {},
   "outputs": [],
   "source": []
  },
  {
   "cell_type": "code",
   "execution_count": null,
   "id": "f3656ab3-8cde-430e-bb37-6d19c8f2e88c",
   "metadata": {},
   "outputs": [],
   "source": []
  },
  {
   "cell_type": "code",
   "execution_count": null,
   "id": "879d78be-359b-4342-9ffd-b520cfa8533a",
   "metadata": {},
   "outputs": [],
   "source": []
  },
  {
   "cell_type": "code",
   "execution_count": null,
   "id": "aaa297ad-4981-48fa-b5ba-a1a7b0485556",
   "metadata": {},
   "outputs": [],
   "source": []
  },
  {
   "cell_type": "code",
   "execution_count": null,
   "id": "18e76b2b-c6e2-4163-890d-a4a79a4b1519",
   "metadata": {},
   "outputs": [],
   "source": []
  },
  {
   "cell_type": "code",
   "execution_count": null,
   "id": "608030f6-0bc9-421c-a431-fec527195d71",
   "metadata": {},
   "outputs": [],
   "source": []
  },
  {
   "cell_type": "code",
   "execution_count": null,
   "id": "290bce72-daff-4836-a9ea-d016d93565f0",
   "metadata": {},
   "outputs": [],
   "source": []
  },
  {
   "cell_type": "code",
   "execution_count": null,
   "id": "6632563d-54a2-493f-99b9-89bd6b07a6b4",
   "metadata": {},
   "outputs": [],
   "source": []
  },
  {
   "cell_type": "code",
   "execution_count": null,
   "id": "75486977-1da9-4558-b1d8-474b82a0b86e",
   "metadata": {},
   "outputs": [],
   "source": []
  },
  {
   "cell_type": "code",
   "execution_count": null,
   "id": "ecada6f7-12c2-4f7f-b832-57b5bbb441c3",
   "metadata": {},
   "outputs": [],
   "source": []
  },
  {
   "cell_type": "code",
   "execution_count": null,
   "id": "54622e1b-33da-4e06-97a7-80fab319acf2",
   "metadata": {},
   "outputs": [],
   "source": []
  },
  {
   "cell_type": "code",
   "execution_count": null,
   "id": "d433348b-1126-4ad1-9da5-c0623e5d790c",
   "metadata": {},
   "outputs": [],
   "source": []
  },
  {
   "cell_type": "code",
   "execution_count": null,
   "id": "69961550-2568-40f5-98cf-ca4490a9630f",
   "metadata": {},
   "outputs": [],
   "source": []
  },
  {
   "cell_type": "code",
   "execution_count": null,
   "id": "060e5214-12fa-4fa1-8e7f-b424b6d217d6",
   "metadata": {},
   "outputs": [],
   "source": []
  },
  {
   "cell_type": "code",
   "execution_count": null,
   "id": "dd631c6a-b43b-4720-9d3f-1731d61e00a1",
   "metadata": {},
   "outputs": [],
   "source": []
  },
  {
   "cell_type": "code",
   "execution_count": null,
   "id": "ef48aaa7-14d4-4e04-bce3-526f1fceb6bd",
   "metadata": {},
   "outputs": [],
   "source": []
  }
 ],
 "metadata": {
  "kernelspec": {
   "display_name": "Python 3 (ipykernel)",
   "language": "python",
   "name": "python3"
  },
  "language_info": {
   "codemirror_mode": {
    "name": "ipython",
    "version": 3
   },
   "file_extension": ".py",
   "mimetype": "text/x-python",
   "name": "python",
   "nbconvert_exporter": "python",
   "pygments_lexer": "ipython3",
   "version": "3.8.10"
  }
 },
 "nbformat": 4,
 "nbformat_minor": 5
}
