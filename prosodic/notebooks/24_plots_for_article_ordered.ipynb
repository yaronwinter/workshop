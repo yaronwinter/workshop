{
 "cells": [
  {
   "cell_type": "markdown",
   "id": "5b32292f-504a-4cc2-8129-64fc954ad898",
   "metadata": {},
   "source": [
    "# Imports "
   ]
  },
  {
   "cell_type": "code",
   "execution_count": 1,
   "id": "351ca2e0-4a21-4175-8c2f-d6f076308f39",
   "metadata": {
    "tags": []
   },
   "outputs": [],
   "source": [
    "import pandas as pd\n",
    "import numpy as np\n",
    "from matplotlib import pyplot as plt\n",
    "import parselmouth # for clalculating pitch with praat\n",
    "from tqdm import tqdm\n",
    "import pathlib"
   ]
  },
  {
   "cell_type": "markdown",
   "id": "b79c0d1d-e08b-4eae-80e8-5a0c07f0c275",
   "metadata": {},
   "source": [
    "# Loading the tagged data (I took the prepared data. In practice we should take the data from the DB..)"
   ]
  },
  {
   "cell_type": "markdown",
   "id": "2ded9854-d3ff-49d8-9299-530784c162a5",
   "metadata": {},
   "source": [
    "## load tagged TAL"
   ]
  },
  {
   "cell_type": "code",
   "execution_count": 79,
   "id": "c8a56894-9877-4cd8-a56f-c77fe1dcfc38",
   "metadata": {
    "tags": []
   },
   "outputs": [],
   "source": [
    "a=pd.read_parquet(\"/net/mraid11/export/dharelg/datasets/all_05012023/tal_tagged_xy_table.parquet\")\n",
    "# filtering untagged\n",
    "a = a[~a.Prototype.str.startswith(\"!\")]\n",
    "\n",
    "a = a[a.columns[:19]]\n",
    "\n",
    "full_audio_path=f\"/net/mraid11/export/dharelg/datasets/this_american_life/audio_wo_music_dataset/\" + a.episode_id.astype(int).astype(str) + \".mp3\"\n",
    "a = a.assign(full_audio_path=full_audio_path)\n",
    "\n",
    "# making prototype id unique across episodes\n",
    "a.loc[:,\"Prototype_id\"] = a.Prototype_id.astype(str).str.cat(a.episode_id.astype(int).astype(str),sep=\"_\")"
   ]
  },
  {
   "cell_type": "code",
   "execution_count": 81,
   "id": "186d97e5-0dfa-4311-b559-da1b8c4f3d64",
   "metadata": {
    "tags": []
   },
   "outputs": [],
   "source": [
    "aa= a.groupby(\"Prototype_id\")[\"Prototype\"].first()"
   ]
  },
  {
   "cell_type": "code",
   "execution_count": 82,
   "id": "3c81e7b9-dc6d-4e17-b0a2-0ec540d7d363",
   "metadata": {
    "tags": []
   },
   "outputs": [
    {
     "data": {
      "text/plain": [
       "Prototype_id\n",
       "0_1        Q\n",
       "0_140      C\n",
       "0_22       C\n",
       "0_5        C\n",
       "0_66       C\n",
       "          ..\n",
       "9982_80    C\n",
       "9986_22    C\n",
       "9987_66    D\n",
       "9992_80    C\n",
       "999_99     D\n",
       "Name: Prototype, Length: 6775, dtype: object"
      ]
     },
     "execution_count": 82,
     "metadata": {},
     "output_type": "execute_result"
    }
   ],
   "source": [
    "aa"
   ]
  },
  {
   "cell_type": "markdown",
   "id": "69853837-01bc-4576-9b0e-564330ae933b",
   "metadata": {},
   "source": [
    "## load SBC"
   ]
  },
  {
   "cell_type": "code",
   "execution_count": 4,
   "id": "3193434d-4792-4752-91cd-ccb458ee6766",
   "metadata": {
    "tags": []
   },
   "outputs": [],
   "source": [
    "b = pd.read_csv(\"/net/mraid11/export/dharelg/datasets/all_05012023/sbc_words.csv\")\n",
    "\n",
    "b = b[b.columns[3:14]]\n",
    "b.loc[:,\"episode_id\"] = b.full_audio_path.str[-10:-4]  \n",
    "b.loc[:,\"Prototype_id\"] = b.iu_id.astype(int).astype(str) + \"_\" + b[\"episode_id\"]\n",
    "b.loc[:,\"Prototype\"] = \"D\" # hack. not the real values"
   ]
  },
  {
   "cell_type": "markdown",
   "id": "4be7629a-104f-439d-baa5-ea6f79b3ce64",
   "metadata": {},
   "source": [
    "## combine the data into a single table"
   ]
  },
  {
   "cell_type": "code",
   "execution_count": 5,
   "id": "88501f15-ed64-42ce-bb8b-4378f314e745",
   "metadata": {},
   "outputs": [],
   "source": [
    "words_w_tags = pd.concat([a,b])#a.copy() #a[a.episode_id==1]"
   ]
  },
  {
   "cell_type": "code",
   "execution_count": 6,
   "id": "67a90b84-a9f2-4b27-9446-7a3987016ae7",
   "metadata": {
    "tags": []
   },
   "outputs": [
    {
     "data": {
      "text/plain": [
       "(3, 22)"
      ]
     },
     "execution_count": 6,
     "metadata": {},
     "output_type": "execute_result"
    }
   ],
   "source": [
    "## I sampled some small prototype to do sanity checks along the way\n",
    "example_iu = words_w_tags[(words_w_tags.Prototype_id==\"528_1\")]\n",
    "example_iu.shape"
   ]
  },
  {
   "cell_type": "code",
   "execution_count": 7,
   "id": "9fa3b567-0382-4f21-ac91-3dc17641556c",
   "metadata": {
    "tags": []
   },
   "outputs": [
    {
     "data": {
      "text/html": [
       "<div>\n",
       "<style scoped>\n",
       "    .dataframe tbody tr th:only-of-type {\n",
       "        vertical-align: middle;\n",
       "    }\n",
       "\n",
       "    .dataframe tbody tr th {\n",
       "        vertical-align: top;\n",
       "    }\n",
       "\n",
       "    .dataframe thead th {\n",
       "        text-align: right;\n",
       "    }\n",
       "</style>\n",
       "<table border=\"1\" class=\"dataframe\">\n",
       "  <thead>\n",
       "    <tr style=\"text-align: right;\">\n",
       "      <th></th>\n",
       "      <th>word_id</th>\n",
       "      <th>begin</th>\n",
       "      <th>end</th>\n",
       "      <th>word</th>\n",
       "      <th>Focus</th>\n",
       "      <th>Focus_id</th>\n",
       "      <th>Prototype</th>\n",
       "      <th>Prototype_id</th>\n",
       "      <th>Comments</th>\n",
       "      <th>Comments_id</th>\n",
       "      <th>...</th>\n",
       "      <th>text</th>\n",
       "      <th>xmin</th>\n",
       "      <th>xmax</th>\n",
       "      <th>annotation_num</th>\n",
       "      <th>tier_name</th>\n",
       "      <th>speaker_id</th>\n",
       "      <th>past_split_id</th>\n",
       "      <th>full_audio_path</th>\n",
       "      <th>is_iu_start</th>\n",
       "      <th>iu_id</th>\n",
       "    </tr>\n",
       "  </thead>\n",
       "  <tbody>\n",
       "    <tr>\n",
       "      <th>107</th>\n",
       "      <td>132.0</td>\n",
       "      <td>528.0</td>\n",
       "      <td>533.0</td>\n",
       "      <td>About</td>\n",
       "      <td>2.0</td>\n",
       "      <td>528.0</td>\n",
       "      <td>D</td>\n",
       "      <td>528_1</td>\n",
       "      <td>None</td>\n",
       "      <td>NaN</td>\n",
       "      <td>...</td>\n",
       "      <td>about</td>\n",
       "      <td>56.01</td>\n",
       "      <td>56.23</td>\n",
       "      <td>4.0</td>\n",
       "      <td>words</td>\n",
       "      <td>Ira Glass</td>\n",
       "      <td>Ira Glass_54.89</td>\n",
       "      <td>/net/mraid11/export/dharelg/datasets/this_amer...</td>\n",
       "      <td>NaN</td>\n",
       "      <td>NaN</td>\n",
       "    </tr>\n",
       "    <tr>\n",
       "      <th>108</th>\n",
       "      <td>133.0</td>\n",
       "      <td>534.0</td>\n",
       "      <td>535.0</td>\n",
       "      <td>a</td>\n",
       "      <td>NaN</td>\n",
       "      <td>NaN</td>\n",
       "      <td>D</td>\n",
       "      <td>528_1</td>\n",
       "      <td>None</td>\n",
       "      <td>NaN</td>\n",
       "      <td>...</td>\n",
       "      <td>a</td>\n",
       "      <td>56.23</td>\n",
       "      <td>56.27</td>\n",
       "      <td>5.0</td>\n",
       "      <td>words</td>\n",
       "      <td>Ira Glass</td>\n",
       "      <td>Ira Glass_54.89</td>\n",
       "      <td>/net/mraid11/export/dharelg/datasets/this_amer...</td>\n",
       "      <td>NaN</td>\n",
       "      <td>NaN</td>\n",
       "    </tr>\n",
       "    <tr>\n",
       "      <th>109</th>\n",
       "      <td>134.0</td>\n",
       "      <td>536.0</td>\n",
       "      <td>542.0</td>\n",
       "      <td>minute</td>\n",
       "      <td>1.0</td>\n",
       "      <td>536.0</td>\n",
       "      <td>D</td>\n",
       "      <td>528_1</td>\n",
       "      <td>None</td>\n",
       "      <td>NaN</td>\n",
       "      <td>...</td>\n",
       "      <td>minute</td>\n",
       "      <td>56.27</td>\n",
       "      <td>56.62</td>\n",
       "      <td>6.0</td>\n",
       "      <td>words</td>\n",
       "      <td>Ira Glass</td>\n",
       "      <td>Ira Glass_54.89</td>\n",
       "      <td>/net/mraid11/export/dharelg/datasets/this_amer...</td>\n",
       "      <td>NaN</td>\n",
       "      <td>NaN</td>\n",
       "    </tr>\n",
       "  </tbody>\n",
       "</table>\n",
       "<p>3 rows × 22 columns</p>\n",
       "</div>"
      ],
      "text/plain": [
       "     word_id  begin    end    word  Focus  Focus_id Prototype Prototype_id   \n",
       "107    132.0  528.0  533.0   About    2.0     528.0         D        528_1  \\\n",
       "108    133.0  534.0  535.0       a    NaN       NaN         D        528_1   \n",
       "109    134.0  536.0  542.0  minute    1.0     536.0         D        528_1   \n",
       "\n",
       "    Comments  Comments_id  ...    text   xmin   xmax  annotation_num   \n",
       "107     None          NaN  ...   about  56.01  56.23             4.0  \\\n",
       "108     None          NaN  ...       a  56.23  56.27             5.0   \n",
       "109     None          NaN  ...  minute  56.27  56.62             6.0   \n",
       "\n",
       "     tier_name  speaker_id    past_split_id   \n",
       "107      words   Ira Glass  Ira Glass_54.89  \\\n",
       "108      words   Ira Glass  Ira Glass_54.89   \n",
       "109      words   Ira Glass  Ira Glass_54.89   \n",
       "\n",
       "                                       full_audio_path is_iu_start iu_id  \n",
       "107  /net/mraid11/export/dharelg/datasets/this_amer...         NaN   NaN  \n",
       "108  /net/mraid11/export/dharelg/datasets/this_amer...         NaN   NaN  \n",
       "109  /net/mraid11/export/dharelg/datasets/this_amer...         NaN   NaN  \n",
       "\n",
       "[3 rows x 22 columns]"
      ]
     },
     "execution_count": 7,
     "metadata": {},
     "output_type": "execute_result"
    }
   ],
   "source": [
    "example_iu"
   ]
  },
  {
   "cell_type": "markdown",
   "id": "b8fd179a-505e-4ce0-90b4-9de545715207",
   "metadata": {},
   "source": [
    "# Getting the pitch"
   ]
  },
  {
   "cell_type": "code",
   "execution_count": 11,
   "id": "80686cf4-5a1a-4500-b25c-99953cbfecd3",
   "metadata": {
    "tags": []
   },
   "outputs": [
    {
     "name": "stderr",
     "output_type": "stream",
     "text": [
      "100%|██████████████████████████████████████████████████████████████████████████████████████████████████████████████████████████████████████████████████████████████████████| 68/68 [10:30<00:00,  9.27s/it]\n"
     ]
    }
   ],
   "source": [
    "## the next code loops over all audio files. for each file it calculates pitch using (This part takes about 10 minutes to run!)\n",
    "df_l=[]\n",
    "for sound_file in tqdm(words_w_tags.full_audio_path.unique()): \n",
    "    # select relevant part of the dataframe\n",
    "    words_w_tags_sel = words_w_tags[words_w_tags[\"full_audio_path\"]==sound_file]\n",
    "    episode_id = words_w_tags_sel.episode_id.iloc[0]\n",
    "    # get pitch vector from praat (you might want to change this part to try different pitch retrieval algorithm)\n",
    "    snd=parselmouth.Sound(sound_file)\n",
    "    snd_part = snd.extract_part(\n",
    "        words_w_tags_sel.xmin.min(),\n",
    "        words_w_tags_sel.xmax.max()\n",
    "    )\n",
    "    pitch = snd_part.to_pitch()\n",
    "    pitch_frequency = pitch.selected_array['frequency']\n",
    "    time=np.arange(0,pitch_frequency.shape[0])*pitch.dt\n",
    "    df=pd.DataFrame(dict(\n",
    "        time=time,\n",
    "        pitch_frequency=pitch_frequency,\n",
    "    ))\n",
    "    # adding word_id and Prototype_id amd speaker_id to the pitch vector\n",
    "    df = df.set_index(\"time\")\n",
    "    df = df.assign(word_id=np.nan,Prototype_id=np.nan,speaker_id=np.nan)\n",
    "    sss = words_w_tags_sel.xmin.min()\n",
    "    for _, s in words_w_tags_sel[[\"xmin\",\"xmax\",\"word_id\"]].iterrows(): \n",
    "        df.loc[s.xmin - sss:s.xmax - sss,\"word_id\"] = s.word_id\n",
    "    prototypes = words_w_tags_sel.groupby(\"Prototype_id\").agg(\n",
    "        {\"xmin\":\"min\",\"xmax\":\"max\",\"speaker_id\":\"first\"}\n",
    "    ).reset_index()\n",
    "    for _, s in prototypes.iterrows(): \n",
    "        df.loc[s.xmin - sss:s.xmax - sss,\"Prototype_id\"] = s.Prototype_id\n",
    "        df.loc[s.xmin - sss:s.xmax - sss,\"speaker_id\"] = s.speaker_id\n",
    "    df = df.reset_index()\n",
    "    # caching the dataframe\n",
    "    pathlib.Path(\"pitch_values_cache\").mkdir(exist_ok=True)\n",
    "    df_path = f\"pitch_values_cache/{episode_id}.parquet\"\n",
    "    df.to_parquet(df_path)\n",
    "    df_l.append(df_path)\n",
    "# loading all dataframes\n",
    "df_all = pd.concat([pd.read_parquet(p) for p in df_l])"
   ]
  },
  {
   "cell_type": "code",
   "execution_count": 14,
   "id": "0f63ff91-8154-4369-8bb5-7db5853c7d58",
   "metadata": {
    "tags": []
   },
   "outputs": [
    {
     "data": {
      "text/plain": [
       "(11325587, 5)"
      ]
     },
     "execution_count": 14,
     "metadata": {},
     "output_type": "execute_result"
    }
   ],
   "source": [
    "df_all.shape"
   ]
  },
  {
   "cell_type": "code",
   "execution_count": 15,
   "id": "d6e345ae-3d17-45a9-a1fb-b0ff4fc4144d",
   "metadata": {
    "tags": []
   },
   "outputs": [
    {
     "data": {
      "text/html": [
       "<div>\n",
       "<style scoped>\n",
       "    .dataframe tbody tr th:only-of-type {\n",
       "        vertical-align: middle;\n",
       "    }\n",
       "\n",
       "    .dataframe tbody tr th {\n",
       "        vertical-align: top;\n",
       "    }\n",
       "\n",
       "    .dataframe thead th {\n",
       "        text-align: right;\n",
       "    }\n",
       "</style>\n",
       "<table border=\"1\" class=\"dataframe\">\n",
       "  <thead>\n",
       "    <tr style=\"text-align: right;\">\n",
       "      <th></th>\n",
       "      <th>time</th>\n",
       "      <th>pitch_frequency</th>\n",
       "      <th>word_id</th>\n",
       "      <th>Prototype_id</th>\n",
       "      <th>speaker_id</th>\n",
       "    </tr>\n",
       "  </thead>\n",
       "  <tbody>\n",
       "    <tr>\n",
       "      <th>0</th>\n",
       "      <td>0.00</td>\n",
       "      <td>0.000000</td>\n",
       "      <td>0.0</td>\n",
       "      <td>0_1</td>\n",
       "      <td>Ira Glass</td>\n",
       "    </tr>\n",
       "    <tr>\n",
       "      <th>1</th>\n",
       "      <td>0.01</td>\n",
       "      <td>0.000000</td>\n",
       "      <td>0.0</td>\n",
       "      <td>0_1</td>\n",
       "      <td>Ira Glass</td>\n",
       "    </tr>\n",
       "    <tr>\n",
       "      <th>2</th>\n",
       "      <td>0.02</td>\n",
       "      <td>0.000000</td>\n",
       "      <td>0.0</td>\n",
       "      <td>0_1</td>\n",
       "      <td>Ira Glass</td>\n",
       "    </tr>\n",
       "    <tr>\n",
       "      <th>3</th>\n",
       "      <td>0.03</td>\n",
       "      <td>162.966202</td>\n",
       "      <td>0.0</td>\n",
       "      <td>0_1</td>\n",
       "      <td>Ira Glass</td>\n",
       "    </tr>\n",
       "    <tr>\n",
       "      <th>4</th>\n",
       "      <td>0.04</td>\n",
       "      <td>160.205475</td>\n",
       "      <td>0.0</td>\n",
       "      <td>0_1</td>\n",
       "      <td>Ira Glass</td>\n",
       "    </tr>\n",
       "  </tbody>\n",
       "</table>\n",
       "</div>"
      ],
      "text/plain": [
       "   time  pitch_frequency  word_id Prototype_id speaker_id\n",
       "0  0.00         0.000000      0.0          0_1  Ira Glass\n",
       "1  0.01         0.000000      0.0          0_1  Ira Glass\n",
       "2  0.02         0.000000      0.0          0_1  Ira Glass\n",
       "3  0.03       162.966202      0.0          0_1  Ira Glass\n",
       "4  0.04       160.205475      0.0          0_1  Ira Glass"
      ]
     },
     "execution_count": 15,
     "metadata": {},
     "output_type": "execute_result"
    }
   ],
   "source": [
    "df_all.head()"
   ]
  },
  {
   "cell_type": "markdown",
   "id": "8fe9c549-68ad-49d7-bd78-3ff9cac7c850",
   "metadata": {},
   "source": [
    "# CAN START FROM HERE BECAUSE THE ABOVE PART IS CACHED"
   ]
  },
  {
   "cell_type": "markdown",
   "id": "0760eb62-94e1-4994-ad6d-5e06a83c1ff4",
   "metadata": {},
   "source": [
    "# imports (again)"
   ]
  },
  {
   "cell_type": "code",
   "execution_count": 9,
   "id": "6cb28fa8-237d-4254-b99d-274afb6183b7",
   "metadata": {
    "tags": []
   },
   "outputs": [],
   "source": [
    "import pandas as pd\n",
    "import numpy as np\n",
    "from matplotlib import pyplot as plt\n",
    "import parselmouth # for clalculating pitch with praat\n",
    "from tqdm import tqdm\n",
    "import pathlib"
   ]
  },
  {
   "cell_type": "code",
   "execution_count": 10,
   "id": "9576efd2-ad02-45df-9938-b925d8602ec7",
   "metadata": {
    "tags": []
   },
   "outputs": [],
   "source": [
    "df_all = pd.concat([pd.read_parquet(p) for p in pathlib.Path(\"pitch_values_cache\").glob(\"*.parquet\")])"
   ]
  },
  {
   "cell_type": "code",
   "execution_count": 11,
   "id": "a545d1ff-43fe-4c17-8719-a4fca28d304c",
   "metadata": {
    "tags": []
   },
   "outputs": [
    {
     "data": {
      "text/html": [
       "<div>\n",
       "<style scoped>\n",
       "    .dataframe tbody tr th:only-of-type {\n",
       "        vertical-align: middle;\n",
       "    }\n",
       "\n",
       "    .dataframe tbody tr th {\n",
       "        vertical-align: top;\n",
       "    }\n",
       "\n",
       "    .dataframe thead th {\n",
       "        text-align: right;\n",
       "    }\n",
       "</style>\n",
       "<table border=\"1\" class=\"dataframe\">\n",
       "  <thead>\n",
       "    <tr style=\"text-align: right;\">\n",
       "      <th></th>\n",
       "      <th>time</th>\n",
       "      <th>pitch_frequency</th>\n",
       "      <th>word_id</th>\n",
       "      <th>Prototype_id</th>\n",
       "      <th>speaker_id</th>\n",
       "    </tr>\n",
       "  </thead>\n",
       "  <tbody>\n",
       "    <tr>\n",
       "      <th>0</th>\n",
       "      <td>0.00</td>\n",
       "      <td>0.000000</td>\n",
       "      <td>0.0</td>\n",
       "      <td>0_1</td>\n",
       "      <td>Ira Glass</td>\n",
       "    </tr>\n",
       "    <tr>\n",
       "      <th>1</th>\n",
       "      <td>0.01</td>\n",
       "      <td>0.000000</td>\n",
       "      <td>0.0</td>\n",
       "      <td>0_1</td>\n",
       "      <td>Ira Glass</td>\n",
       "    </tr>\n",
       "    <tr>\n",
       "      <th>2</th>\n",
       "      <td>0.02</td>\n",
       "      <td>0.000000</td>\n",
       "      <td>0.0</td>\n",
       "      <td>0_1</td>\n",
       "      <td>Ira Glass</td>\n",
       "    </tr>\n",
       "    <tr>\n",
       "      <th>3</th>\n",
       "      <td>0.03</td>\n",
       "      <td>162.966202</td>\n",
       "      <td>0.0</td>\n",
       "      <td>0_1</td>\n",
       "      <td>Ira Glass</td>\n",
       "    </tr>\n",
       "    <tr>\n",
       "      <th>4</th>\n",
       "      <td>0.04</td>\n",
       "      <td>160.205475</td>\n",
       "      <td>0.0</td>\n",
       "      <td>0_1</td>\n",
       "      <td>Ira Glass</td>\n",
       "    </tr>\n",
       "  </tbody>\n",
       "</table>\n",
       "</div>"
      ],
      "text/plain": [
       "   time  pitch_frequency  word_id Prototype_id speaker_id\n",
       "0  0.00         0.000000      0.0          0_1  Ira Glass\n",
       "1  0.01         0.000000      0.0          0_1  Ira Glass\n",
       "2  0.02         0.000000      0.0          0_1  Ira Glass\n",
       "3  0.03       162.966202      0.0          0_1  Ira Glass\n",
       "4  0.04       160.205475      0.0          0_1  Ira Glass"
      ]
     },
     "execution_count": 11,
     "metadata": {},
     "output_type": "execute_result"
    }
   ],
   "source": [
    "df_all.head()"
   ]
  },
  {
   "cell_type": "code",
   "execution_count": 18,
   "id": "9e56ea60-4d9b-4563-8049-674017a80bae",
   "metadata": {
    "tags": []
   },
   "outputs": [
    {
     "data": {
      "text/plain": [
       "37382"
      ]
     },
     "execution_count": 18,
     "metadata": {},
     "output_type": "execute_result"
    }
   ],
   "source": [
    "df_all.Prototype_id.nunique()"
   ]
  },
  {
   "cell_type": "code",
   "execution_count": 20,
   "id": "d79e43c2-1dcd-4b24-bfa4-89e21a094764",
   "metadata": {
    "tags": []
   },
   "outputs": [],
   "source": [
    "pitch_w_tags = df_all.copy()\n",
    "# changing the feature name to \"values\" (no real reason for that. just convinience)\n",
    "pitch_w_tags=pitch_w_tags.rename(columns={\"pitch_frequency\":\"values\"})  \n",
    "# removing areas that don't belong to any prototype\n",
    "pitch_w_tags=pitch_w_tags.loc[pitch_w_tags[\"Prototype_id\"].notna(),:]\n",
    "# remove 0 values (can change depending on the feautre!!!!)\n",
    "pitch_w_tags = pitch_w_tags[pitch_w_tags[\"values\"]>0]"
   ]
  },
  {
   "cell_type": "markdown",
   "id": "9caecd75-4cae-4e96-a953-3787f00cb4cd",
   "metadata": {},
   "source": [
    "# plot of feature in normalized time for all IUs "
   ]
  },
  {
   "cell_type": "markdown",
   "id": "1133dc7d-d5d0-4777-8ac2-68cb3bae07ed",
   "metadata": {
    "tags": []
   },
   "source": [
    "## calculating the normalized time bins for each \n",
    "- norm_time: the time is projected to be from 0 to 1\n",
    "- norm_time_binned: each norm time is mapped to its bin \n",
    "- norm_time_binned_float: each bin range is mapped to a float"
   ]
  },
  {
   "cell_type": "code",
   "execution_count": 47,
   "id": "1f63c9cb-cf91-43c2-8067-d3c6bbc99588",
   "metadata": {
    "tags": []
   },
   "outputs": [],
   "source": [
    "bin_res = 0.05\n",
    "\n",
    "# creating normalized binned time - time is from 0 to 1 and in bins the size of {bin_res}\n",
    "pitch_w_tags.loc[:,\"start_time\"] = pitch_w_tags.groupby(\"Prototype_id\")[\"time\"].transform(\"min\")\n",
    "pitch_w_tags.loc[:,\"end_time\"] = pitch_w_tags.groupby(\"Prototype_id\")[\"time\"].transform(\"max\")\n",
    "pitch_w_tags.loc[:,\"norm_time\"] = ((pitch_w_tags[\"time\"] - pitch_w_tags[\"start_time\"]) / (pitch_w_tags[\"end_time\"] - pitch_w_tags[\"start_time\"]))\n",
    "pitch_w_tags.loc[:,\"norm_time_binned\"] = pd.cut(pitch_w_tags[\"norm_time\"],np.linspace(0,1,int(1/bin_res+1)),include_lowest=True) \n",
    "index_categories = pitch_w_tags.norm_time_binned.cat.categories\n",
    "category_mapping = {k:k.left for k in index_categories.values}\n",
    "pitch_w_tags.loc[:,\"norm_time_binned_float\"] = pitch_w_tags[\"norm_time_binned\"].map(category_mapping)"
   ]
  },
  {
   "cell_type": "code",
   "execution_count": 49,
   "id": "436a0222-49b7-4812-ab43-b7aff13ecae1",
   "metadata": {
    "tags": []
   },
   "outputs": [
    {
     "data": {
      "text/html": [
       "<div>\n",
       "<style scoped>\n",
       "    .dataframe tbody tr th:only-of-type {\n",
       "        vertical-align: middle;\n",
       "    }\n",
       "\n",
       "    .dataframe tbody tr th {\n",
       "        vertical-align: top;\n",
       "    }\n",
       "\n",
       "    .dataframe thead th {\n",
       "        text-align: right;\n",
       "    }\n",
       "</style>\n",
       "<table border=\"1\" class=\"dataframe\">\n",
       "  <thead>\n",
       "    <tr style=\"text-align: right;\">\n",
       "      <th></th>\n",
       "      <th>time</th>\n",
       "      <th>values</th>\n",
       "      <th>word_id</th>\n",
       "      <th>Prototype_id</th>\n",
       "      <th>speaker_id</th>\n",
       "      <th>start_time</th>\n",
       "      <th>end_time</th>\n",
       "      <th>norm_time</th>\n",
       "      <th>norm_time_binned</th>\n",
       "      <th>norm_time_binned_float</th>\n",
       "    </tr>\n",
       "  </thead>\n",
       "  <tbody>\n",
       "    <tr>\n",
       "      <th>3</th>\n",
       "      <td>0.03</td>\n",
       "      <td>162.966202</td>\n",
       "      <td>0.0</td>\n",
       "      <td>0_1</td>\n",
       "      <td>Ira Glass</td>\n",
       "      <td>0.03</td>\n",
       "      <td>0.34</td>\n",
       "      <td>0.000000</td>\n",
       "      <td>(-0.001, 0.05]</td>\n",
       "      <td>-0.001</td>\n",
       "    </tr>\n",
       "    <tr>\n",
       "      <th>4</th>\n",
       "      <td>0.04</td>\n",
       "      <td>160.205475</td>\n",
       "      <td>0.0</td>\n",
       "      <td>0_1</td>\n",
       "      <td>Ira Glass</td>\n",
       "      <td>0.03</td>\n",
       "      <td>0.34</td>\n",
       "      <td>0.032258</td>\n",
       "      <td>(-0.001, 0.05]</td>\n",
       "      <td>-0.001</td>\n",
       "    </tr>\n",
       "    <tr>\n",
       "      <th>5</th>\n",
       "      <td>0.05</td>\n",
       "      <td>156.059560</td>\n",
       "      <td>0.0</td>\n",
       "      <td>0_1</td>\n",
       "      <td>Ira Glass</td>\n",
       "      <td>0.03</td>\n",
       "      <td>0.34</td>\n",
       "      <td>0.064516</td>\n",
       "      <td>(0.05, 0.1]</td>\n",
       "      <td>0.050</td>\n",
       "    </tr>\n",
       "    <tr>\n",
       "      <th>6</th>\n",
       "      <td>0.06</td>\n",
       "      <td>152.045778</td>\n",
       "      <td>0.0</td>\n",
       "      <td>0_1</td>\n",
       "      <td>Ira Glass</td>\n",
       "      <td>0.03</td>\n",
       "      <td>0.34</td>\n",
       "      <td>0.096774</td>\n",
       "      <td>(0.05, 0.1]</td>\n",
       "      <td>0.050</td>\n",
       "    </tr>\n",
       "    <tr>\n",
       "      <th>7</th>\n",
       "      <td>0.07</td>\n",
       "      <td>149.972863</td>\n",
       "      <td>0.0</td>\n",
       "      <td>0_1</td>\n",
       "      <td>Ira Glass</td>\n",
       "      <td>0.03</td>\n",
       "      <td>0.34</td>\n",
       "      <td>0.129032</td>\n",
       "      <td>(0.1, 0.15]</td>\n",
       "      <td>0.100</td>\n",
       "    </tr>\n",
       "  </tbody>\n",
       "</table>\n",
       "</div>"
      ],
      "text/plain": [
       "   time      values  word_id Prototype_id speaker_id  start_time  end_time   \n",
       "3  0.03  162.966202      0.0          0_1  Ira Glass        0.03      0.34  \\\n",
       "4  0.04  160.205475      0.0          0_1  Ira Glass        0.03      0.34   \n",
       "5  0.05  156.059560      0.0          0_1  Ira Glass        0.03      0.34   \n",
       "6  0.06  152.045778      0.0          0_1  Ira Glass        0.03      0.34   \n",
       "7  0.07  149.972863      0.0          0_1  Ira Glass        0.03      0.34   \n",
       "\n",
       "   norm_time norm_time_binned norm_time_binned_float  \n",
       "3   0.000000   (-0.001, 0.05]                 -0.001  \n",
       "4   0.032258   (-0.001, 0.05]                 -0.001  \n",
       "5   0.064516      (0.05, 0.1]                  0.050  \n",
       "6   0.096774      (0.05, 0.1]                  0.050  \n",
       "7   0.129032      (0.1, 0.15]                  0.100  "
      ]
     },
     "execution_count": 49,
     "metadata": {},
     "output_type": "execute_result"
    }
   ],
   "source": [
    "pitch_w_tags.head()"
   ]
  },
  {
   "cell_type": "markdown",
   "id": "354a27b5-bfeb-4bd2-bef8-3e4d2629f624",
   "metadata": {},
   "source": [
    "## removing 0 pitch, calculating semitones, doing speaker normalization and bin aggregation\n",
    "- values: pitch \n",
    "- speaker_median: the median pitch frequency of the speaker\n",
    "- values_semitone: pitch in semitones (0 is speakers median)\n",
    "- values_semitone_bin_median: the median pitch in the bin (in semitones) \n",
    "- values_semitone_bin_mean: the mean pitch in the bin (in semitones)"
   ]
  },
  {
   "cell_type": "code",
   "execution_count": 51,
   "id": "9c2458c5-0944-400b-867f-3da0abb14f38",
   "metadata": {
    "tags": []
   },
   "outputs": [],
   "source": [
    "# scaling and normalizing the values (scaling method can change depending on the feautre!!!!)\n",
    "pitch_w_tags.loc[:,\"speaker_median\"] = pitch_w_tags.groupby(\"speaker_id\")[\"values\"].transform(\"median\")\n",
    "pitch_w_tags.loc[:,\"values_semitone\"] = 12*np.log(pitch_w_tags[\"values\"]/pitch_w_tags[\"speaker_median\"])/np.log(2)\n",
    "# treating bins with more than one data point \n",
    "pitch_w_tags.loc[:,\"values_semitone_bin_median\"] = pitch_w_tags.groupby([\"Prototype_id\",\"norm_time_binned\"])[\"values_semitone\"].transform(\"median\")\n",
    "pitch_w_tags.loc[:,\"values_semitone_bin_mean\"] = pitch_w_tags.groupby([\"Prototype_id\",\"norm_time_binned\"])[\"values_semitone\"].transform(\"mean\")\n",
    "# making sure only one row per Prototype_id and bin\n",
    "pitch_w_tags_wo_dups = pitch_w_tags.drop_duplicates([\"Prototype_id\",\"norm_time_binned\"])"
   ]
  },
  {
   "cell_type": "markdown",
   "id": "b1c374eb-21d2-488b-8dde-a112342f2f53",
   "metadata": {},
   "source": [
    "## example plot single IU"
   ]
  },
  {
   "cell_type": "code",
   "execution_count": 54,
   "id": "fff63ef4-3ed2-4dcb-8853-eed8644932cc",
   "metadata": {
    "tags": []
   },
   "outputs": [
    {
     "data": {
      "text/plain": [
       "<Axes: xlabel='norm_time_binned_float'>"
      ]
     },
     "execution_count": 54,
     "metadata": {},
     "output_type": "execute_result"
    },
    {
     "data": {
      "image/png": "[encoded data removed]",
      "text/plain": [
       "<Figure size 640x480 with 1 Axes>"
      ]
     },
     "metadata": {},
     "output_type": "display_data"
    }
   ],
   "source": [
    "pitch_w_tags_wo_dups.loc[pitch_w_tags_wo_dups.Prototype_id==\"528_1\"].set_index(\"norm_time_binned_float\")[\"values_semitone_bin_median\"].plot(style=\"--*\")"
   ]
  },
  {
   "cell_type": "markdown",
   "id": "3d7244b3-688b-4632-a8e7-d1c4fcf43340",
   "metadata": {},
   "source": [
    "## comparing mean and median bin calculation for a single IU"
   ]
  },
  {
   "cell_type": "code",
   "execution_count": 17,
   "id": "999c95db-ef09-4c57-81a9-39f8e48e56cc",
   "metadata": {
    "tags": []
   },
   "outputs": [
    {
     "data": {
      "text/plain": [
       "<matplotlib.legend.Legend at 0x7f84be5d12a0>"
      ]
     },
     "execution_count": 17,
     "metadata": {},
     "output_type": "execute_result"
    },
    {
     "data": {
      "image/png": "[encoded data removed]",
      "text/plain": [
       "<Figure size 640x480 with 1 Axes>"
      ]
     },
     "metadata": {},
     "output_type": "display_data"
    }
   ],
   "source": [
    "df = pitch_w_tags_wo_dups.loc[pitch_w_tags_wo_dups.Prototype_id==\"528_1\"].set_index(\"norm_time_binned_float\")\n",
    "df[\"values_semitone_bin_median\"].plot(style=\"*\",label=\"median\")\n",
    "df[\"values_semitone_bin_mean\"].plot(style=\"*\",label=\"mean\")\n",
    "plt.legend()"
   ]
  },
  {
   "cell_type": "code",
   "execution_count": 62,
   "id": "41670b18-a341-43ab-9835-f35e224f1e3c",
   "metadata": {
    "tags": []
   },
   "outputs": [
    {
     "data": {
      "text/plain": [
       "CategoricalIndex([-0.001,   0.05,    0.1,   0.15,    0.2,   0.25,    0.3,\n",
       "                    0.35,    0.4,   0.45,    0.5,   0.55,    0.6,   0.65,\n",
       "                     0.7,   0.75,    0.8,   0.85,    0.9,   0.95],\n",
       "                 categories=[-0.001, 0.050, 0.100, 0.150, ..., 0.80, 0.85, 0.90, 0.95], ordered=True, dtype='category', name='norm_time_binned_float')"
      ]
     },
     "execution_count": 62,
     "metadata": {},
     "output_type": "execute_result"
    }
   ],
   "source": [
    "plot_data[\"mean\"].index"
   ]
  },
  {
   "cell_type": "code",
   "execution_count": 65,
   "id": "59f75047-c294-4f8b-9882-47aed90ac790",
   "metadata": {
    "tags": []
   },
   "outputs": [
    {
     "data": {
      "text/plain": [
       "[-0.001, 0.050, 0.100, 0.150, 0.200, ..., 0.75, 0.80, 0.85, 0.90, 0.95]\n",
       "Length: 20\n",
       "Categories (20, float64): [-0.001 < 0.050 < 0.100 < 0.150 ... 0.80 < 0.85 < 0.90 < 0.95]"
      ]
     },
     "execution_count": 65,
     "metadata": {},
     "output_type": "execute_result"
    }
   ],
   "source": [
    "plot_data.index.values"
   ]
  },
  {
   "cell_type": "markdown",
   "id": "2fc11aae-a431-480c-896c-b86304b19f34",
   "metadata": {
    "tags": []
   },
   "source": [
    "## ploting multiple IUs "
   ]
  },
  {
   "cell_type": "code",
   "execution_count": 77,
   "id": "c88bb198-b99a-41e0-8c70-20cf4aaaeacb",
   "metadata": {
    "tags": []
   },
   "outputs": [
    {
     "data": {
      "image/png": "[encoded data removed]",
      "text/plain": [
       "<Figure size 640x480 with 1 Axes>"
      ]
     },
     "metadata": {},
     "output_type": "display_data"
    }
   ],
   "source": [
    "def plot_df(plot_data):\n",
    "    label=plot_data[\"label\"].iloc[0]\n",
    "    plt.plot(plot_data[\"mean\"],\"--*\",label=label,)\n",
    "    plt.fill_between(\n",
    "        plot_data[\"mean\"].index,\n",
    "        plot_data[\"mean\"]-plot_data[\"std\"]/plot_data[\"count\"]**0.5,\n",
    "        plot_data[\"mean\"]+plot_data[\"std\"]/plot_data[\"count\"]**0.5,\n",
    "        alpha=0.3\n",
    "    )\n",
    "plot_data = pitch_w_tags_wo_dups.groupby(\"norm_time_binned_float\")[\"values_semitone_bin_median\"].describe()\n",
    "plot_df(plot_data.assign(label=\"all (34393 IUs)\"))\n",
    "plt.grid()\n",
    "plt.ylabel(\"pitch(semitones relative to speaker median)\")\n",
    "plt.xlabel(f\"normalized time (bins of {bin_res})\")\n",
    "plt.xlim(0,1)\n",
    "plt.title(\"praat pitch with normalized time\")\n",
    "\n",
    "\n",
    "plot_data_wo_iraglass = pitch_w_tags_wo_dups[\n",
    "    ~pitch_w_tags_wo_dups[\"Prototype_id\"].str.contains(\"SBC\")\n",
    "].groupby(\"norm_time_binned_float\")[\"values_semitone_bin_median\"].describe()\n",
    "plot_df(plot_data_wo_iraglass.assign(label=\"tagged TAL (6619 IUs)\"))\n",
    "plot_data_iraglass = pitch_w_tags_wo_dups[\n",
    "    pitch_w_tags_wo_dups[\"Prototype_id\"].str.contains(\"SBC\")\n",
    "].groupby(\"norm_time_binned_float\")[\"values_semitone_bin_median\"].describe()\n",
    "plot_df(plot_data_iraglass.assign(label=\"SBC (27774 IUs)\"))\n",
    "plt.legend()\n",
    "plt.grid()"
   ]
  },
  {
   "cell_type": "code",
   "execution_count": 78,
   "id": "e910282d-efe2-451e-be84-60f71cee99a8",
   "metadata": {
    "tags": []
   },
   "outputs": [
    {
     "data": {
      "text/html": [
       "<div>\n",
       "<style scoped>\n",
       "    .dataframe tbody tr th:only-of-type {\n",
       "        vertical-align: middle;\n",
       "    }\n",
       "\n",
       "    .dataframe tbody tr th {\n",
       "        vertical-align: top;\n",
       "    }\n",
       "\n",
       "    .dataframe thead th {\n",
       "        text-align: right;\n",
       "    }\n",
       "</style>\n",
       "<table border=\"1\" class=\"dataframe\">\n",
       "  <thead>\n",
       "    <tr style=\"text-align: right;\">\n",
       "      <th></th>\n",
       "      <th>time</th>\n",
       "      <th>values</th>\n",
       "      <th>word_id</th>\n",
       "      <th>Prototype_id</th>\n",
       "      <th>speaker_id</th>\n",
       "      <th>start_time</th>\n",
       "      <th>end_time</th>\n",
       "      <th>norm_time</th>\n",
       "      <th>norm_time_binned</th>\n",
       "      <th>norm_time_binned_float</th>\n",
       "      <th>speaker_median</th>\n",
       "      <th>values_semitone</th>\n",
       "      <th>values_semitone_bin_median</th>\n",
       "      <th>values_semitone_bin_mean</th>\n",
       "    </tr>\n",
       "  </thead>\n",
       "  <tbody>\n",
       "    <tr>\n",
       "      <th>3</th>\n",
       "      <td>0.03</td>\n",
       "      <td>162.966202</td>\n",
       "      <td>0.0</td>\n",
       "      <td>0_1</td>\n",
       "      <td>Ira Glass</td>\n",
       "      <td>0.03</td>\n",
       "      <td>0.34</td>\n",
       "      <td>0.000000</td>\n",
       "      <td>(-0.001, 0.05]</td>\n",
       "      <td>-0.001</td>\n",
       "      <td>129.494874</td>\n",
       "      <td>3.980134</td>\n",
       "      <td>3.832238</td>\n",
       "      <td>3.832238</td>\n",
       "    </tr>\n",
       "    <tr>\n",
       "      <th>5</th>\n",
       "      <td>0.05</td>\n",
       "      <td>156.059560</td>\n",
       "      <td>0.0</td>\n",
       "      <td>0_1</td>\n",
       "      <td>Ira Glass</td>\n",
       "      <td>0.03</td>\n",
       "      <td>0.34</td>\n",
       "      <td>0.064516</td>\n",
       "      <td>(0.05, 0.1]</td>\n",
       "      <td>0.050</td>\n",
       "      <td>129.494874</td>\n",
       "      <td>3.230421</td>\n",
       "      <td>3.004875</td>\n",
       "      <td>3.004875</td>\n",
       "    </tr>\n",
       "    <tr>\n",
       "      <th>7</th>\n",
       "      <td>0.07</td>\n",
       "      <td>149.972863</td>\n",
       "      <td>0.0</td>\n",
       "      <td>0_1</td>\n",
       "      <td>Ira Glass</td>\n",
       "      <td>0.03</td>\n",
       "      <td>0.34</td>\n",
       "      <td>0.129032</td>\n",
       "      <td>(0.1, 0.15]</td>\n",
       "      <td>0.100</td>\n",
       "      <td>129.494874</td>\n",
       "      <td>2.541678</td>\n",
       "      <td>2.541678</td>\n",
       "      <td>2.541678</td>\n",
       "    </tr>\n",
       "    <tr>\n",
       "      <th>8</th>\n",
       "      <td>0.08</td>\n",
       "      <td>149.347644</td>\n",
       "      <td>0.0</td>\n",
       "      <td>0_1</td>\n",
       "      <td>Ira Glass</td>\n",
       "      <td>0.03</td>\n",
       "      <td>0.34</td>\n",
       "      <td>0.161290</td>\n",
       "      <td>(0.15, 0.2]</td>\n",
       "      <td>0.150</td>\n",
       "      <td>129.494874</td>\n",
       "      <td>2.469354</td>\n",
       "      <td>2.482257</td>\n",
       "      <td>2.482257</td>\n",
       "    </tr>\n",
       "    <tr>\n",
       "      <th>10</th>\n",
       "      <td>0.10</td>\n",
       "      <td>151.333260</td>\n",
       "      <td>0.0</td>\n",
       "      <td>0_1</td>\n",
       "      <td>Ira Glass</td>\n",
       "      <td>0.03</td>\n",
       "      <td>0.34</td>\n",
       "      <td>0.225806</td>\n",
       "      <td>(0.2, 0.25]</td>\n",
       "      <td>0.200</td>\n",
       "      <td>129.494874</td>\n",
       "      <td>2.698009</td>\n",
       "      <td>2.698009</td>\n",
       "      <td>2.698009</td>\n",
       "    </tr>\n",
       "  </tbody>\n",
       "</table>\n",
       "</div>"
      ],
      "text/plain": [
       "    time      values  word_id Prototype_id speaker_id  start_time  end_time   \n",
       "3   0.03  162.966202      0.0          0_1  Ira Glass        0.03      0.34  \\\n",
       "5   0.05  156.059560      0.0          0_1  Ira Glass        0.03      0.34   \n",
       "7   0.07  149.972863      0.0          0_1  Ira Glass        0.03      0.34   \n",
       "8   0.08  149.347644      0.0          0_1  Ira Glass        0.03      0.34   \n",
       "10  0.10  151.333260      0.0          0_1  Ira Glass        0.03      0.34   \n",
       "\n",
       "    norm_time norm_time_binned norm_time_binned_float  speaker_median   \n",
       "3    0.000000   (-0.001, 0.05]                 -0.001      129.494874  \\\n",
       "5    0.064516      (0.05, 0.1]                  0.050      129.494874   \n",
       "7    0.129032      (0.1, 0.15]                  0.100      129.494874   \n",
       "8    0.161290      (0.15, 0.2]                  0.150      129.494874   \n",
       "10   0.225806      (0.2, 0.25]                  0.200      129.494874   \n",
       "\n",
       "    values_semitone  values_semitone_bin_median  values_semitone_bin_mean  \n",
       "3          3.980134                    3.832238                  3.832238  \n",
       "5          3.230421                    3.004875                  3.004875  \n",
       "7          2.541678                    2.541678                  2.541678  \n",
       "8          2.469354                    2.482257                  2.482257  \n",
       "10         2.698009                    2.698009                  2.698009  "
      ]
     },
     "execution_count": 78,
     "metadata": {},
     "output_type": "execute_result"
    }
   ],
   "source": [
    "pitch_w_tags_wo_dups.head()"
   ]
  },
  {
   "cell_type": "code",
   "execution_count": 86,
   "id": "bdfd3248-84ab-4f57-8951-0fd64f7183b5",
   "metadata": {
    "tags": []
   },
   "outputs": [
    {
     "name": "stderr",
     "output_type": "stream",
     "text": [
      "/tmp/ipykernel_6606/1084656607.py:20: SettingWithCopyWarning: \n",
      "A value is trying to be set on a copy of a slice from a DataFrame.\n",
      "Try using .loc[row_indexer,col_indexer] = value instead\n",
      "\n",
      "See the caveats in the documentation: https://pandas.pydata.org/pandas-docs/stable/user_guide/indexing.html#returning-a-view-versus-a-copy\n",
      "  a.loc[:,\"Prototype\"] = a[\"Prototype_id\"].map(aa)\n"
     ]
    },
    {
     "data": {
      "image/png": "[encoded data removed]",
      "text/plain": [
       "<Figure size 640x480 with 1 Axes>"
      ]
     },
     "metadata": {},
     "output_type": "display_data"
    }
   ],
   "source": [
    "def plot_df(plot_data):\n",
    "    label=plot_data[\"label\"].iloc[0]\n",
    "    plt.plot(plot_data[\"mean\"],\"--*\",label=label,)\n",
    "    plt.fill_between(\n",
    "        plot_data[\"mean\"].index,\n",
    "        plot_data[\"mean\"]-plot_data[\"std\"]/plot_data[\"count\"]**0.5,\n",
    "        plot_data[\"mean\"]+plot_data[\"std\"]/plot_data[\"count\"]**0.5,\n",
    "        alpha=0.3\n",
    "    )\n",
    "plt.grid()\n",
    "plt.ylabel(\"pitch(semitones relative to speaker median)\")\n",
    "plt.xlabel(f\"normalized time (bins of {bin_res})\")\n",
    "plt.xlim(0,1)\n",
    "plt.title(\"praat pitch with normalized time\")\n",
    "\n",
    "\n",
    "a = pitch_w_tags_wo_dups[\n",
    "    ~pitch_w_tags_wo_dups[\"Prototype_id\"].str.contains(\"SBC\")\n",
    "]\n",
    "a.loc[:,\"Prototype\"] = a[\"Prototype_id\"].map(aa)\n",
    "d = a[a[\"Prototype\"]==\"D\"].groupby(\"norm_time_binned_float\")[\"values_semitone_bin_median\"].describe()\n",
    "plot_df(d.assign(label=\"D\"))\n",
    "c = a[a[\"Prototype\"]==\"C\"].groupby(\"norm_time_binned_float\")[\"values_semitone_bin_median\"].describe()\n",
    "plot_df(c.assign(label=\"C\"))\n",
    "plt.legend()\n",
    "plt.grid()"
   ]
  },
  {
   "cell_type": "code",
   "execution_count": null,
   "id": "8c769289-deb8-4ed2-af54-21236ccee04d",
   "metadata": {},
   "outputs": [],
   "source": []
  }
 ],
 "metadata": {
  "kernelspec": {
   "display_name": "Python 3 (ipykernel)",
   "language": "python",
   "name": "python3"
  },
  "language_info": {
   "codemirror_mode": {
    "name": "ipython",
    "version": 3
   },
   "file_extension": ".py",
   "mimetype": "text/x-python",
   "name": "python",
   "nbconvert_exporter": "python",
   "pygments_lexer": "ipython3",
   "version": "3.10.10"
  }
 },
 "nbformat": 4,
 "nbformat_minor": 5
}
