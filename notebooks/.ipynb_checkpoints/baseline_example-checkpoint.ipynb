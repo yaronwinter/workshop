{
 "cells": [
  {
   "cell_type": "markdown",
   "id": "223c0b2c-d975-409a-86d0-0da2f69f1ab1",
   "metadata": {},
   "source": [
    "# Example baseline model (threshold on silences)"
   ]
  },
  {
   "cell_type": "code",
   "execution_count": 39,
   "id": "a1eaf110-5f68-4c3a-903e-239c87a87287",
   "metadata": {},
   "outputs": [],
   "source": [
    "import pandas as pd         # pandas==1.5.2\n",
    "from sklearn import metrics # scikit-learn==1.1.3"
   ]
  },
  {
   "cell_type": "code",
   "execution_count": 40,
   "id": "6b4bad5b-6d5d-456b-85de-2b9ce92990dd",
   "metadata": {},
   "outputs": [],
   "source": [
    "df=pd.read_csv(\"SBC001_labels.csv\")"
   ]
  },
  {
   "cell_type": "code",
   "execution_count": 41,
   "id": "345d9bae-5a55-40ec-80b6-5fd8c5d0619b",
   "metadata": {},
   "outputs": [
    {
     "data": {
      "text/plain": [
       "0.5163313636303637"
      ]
     },
     "execution_count": 41,
     "metadata": {},
     "output_type": "execute_result"
    }
   ],
   "source": [
    "baseline_pred = (df.xmin - df.xmax.shift().fillna(0) > 0.1) # example baseline model\n",
    "metrics.cohen_kappa_score(df.label,baseline_pred) # requested metric"
   ]
  }
 ],
 "metadata": {
  "kernelspec": {
   "display_name": "Python 3 (ipykernel)",
   "language": "python",
   "name": "python3"
  },
  "language_info": {
   "codemirror_mode": {
    "name": "ipython",
    "version": 3
   },
   "file_extension": ".py",
   "mimetype": "text/x-python",
   "name": "python",
   "nbconvert_exporter": "python",
   "pygments_lexer": "ipython3",
   "version": "3.8.10"
  }
 },
 "nbformat": 4,
 "nbformat_minor": 5
}
