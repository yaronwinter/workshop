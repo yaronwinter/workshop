{
 "cells": [
  {
   "cell_type": "code",
   "execution_count": 1,
   "id": "4c6b3b9d-4545-4286-ac8d-80983cc93bb4",
   "metadata": {},
   "outputs": [
    {
     "data": {
      "text/plain": [
       "'/net/mraid11/export/dharelg/datasets/whisper_dataset/notebooks_for_processing_data4prototype_and_focus_tal_alona'"
      ]
     },
     "execution_count": 1,
     "metadata": {},
     "output_type": "execute_result"
    }
   ],
   "source": [
    "pwd"
   ]
  },
  {
   "cell_type": "code",
   "execution_count": 12,
   "id": "a82cab96-6123-44b0-bbe1-694e4a440148",
   "metadata": {},
   "outputs": [],
   "source": [
    "import pickle\n",
    "import librosa\n",
    "import pandas as pd\n",
    "import numpy as np"
   ]
  },
  {
   "cell_type": "code",
   "execution_count": 13,
   "id": "061279ef-92f9-4b9b-9156-29fd0ae4462d",
   "metadata": {},
   "outputs": [
    {
     "data": {
      "text/plain": [
       "\"focus only\\nwith open('/home/eranbe/dharelg/datasets/whisper_dataset/notebooks_for_processing_data4prototype_and_focus_tal_alona/pickle_step1/zip_path_tal_poc_focus_only_include21.pkl', 'rb') as f:\\n    tal_paths = pickle.load(f)\\n\""
      ]
     },
     "execution_count": 13,
     "metadata": {},
     "output_type": "execute_result"
    }
   ],
   "source": [
    "\"\"\"focus only\n",
    "with open('/home/eranbe/dharelg/datasets/whisper_dataset/notebooks_for_processing_data4prototype_and_focus_tal_alona/pickle_step1/zip_path_tal_poc_focus_only_include21.pkl', 'rb') as f:\n",
    "    tal_paths = pickle.load(f)\n",
    "\"\"\""
   ]
  },
  {
   "cell_type": "code",
   "execution_count": 14,
   "id": "e7e9f71a-f683-4ea9-baf7-2971af4f6dca",
   "metadata": {},
   "outputs": [],
   "source": [
    "with open('/home/eranbe/dharelg/datasets/whisper_dataset/notebooks_for_processing_data4prototype_and_focus_tal_alona/pickle_step1/zip_path_tal_poc_segprotfoca_include21.pkl', 'rb') as f:\n",
    "    tal_paths = pickle.load(f)"
   ]
  },
  {
   "cell_type": "code",
   "execution_count": 15,
   "id": "20d89aba-83eb-4260-bb8b-9c1c6c877e6f",
   "metadata": {},
   "outputs": [],
   "source": [
    "list_zip_of_paths = list(tal_paths)"
   ]
  },
  {
   "cell_type": "code",
   "execution_count": 16,
   "id": "88f16a8f-472d-4ecf-9492-b344e4006ebb",
   "metadata": {},
   "outputs": [
    {
     "data": {
      "text/plain": [
       "[('/home/eranbe/dharelg/datasets/whisper_dataset/prototype_dataset/TAL_4prototype_tmpfiles_4creating_dataset/garbage5/words/0.0.txt',\n",
       "  '/home/eranbe/dharelg/datasets/whisper_dataset/prototype_dataset/TAL_4prototype_tmpfiles_4creating_dataset/garbage5/wav/0.wav',\n",
       "  '/home/eranbe/dharelg/datasets/whisper_dataset/prototype_dataset/TAL_4prototype_tmpfiles_4creating_dataset/garbage5/boolean/0.0.txt'),\n",
       " ('/home/eranbe/dharelg/datasets/whisper_dataset/prototype_dataset/TAL_4prototype_tmpfiles_4creating_dataset/garbage5/words/2.0.txt',\n",
       "  '/home/eranbe/dharelg/datasets/whisper_dataset/prototype_dataset/TAL_4prototype_tmpfiles_4creating_dataset/garbage5/wav/2.wav',\n",
       "  '/home/eranbe/dharelg/datasets/whisper_dataset/prototype_dataset/TAL_4prototype_tmpfiles_4creating_dataset/garbage5/boolean/2.0.txt')]"
      ]
     },
     "execution_count": 16,
     "metadata": {},
     "output_type": "execute_result"
    }
   ],
   "source": [
    "list_zip_of_paths[:2]"
   ]
  },
  {
   "cell_type": "code",
   "execution_count": 17,
   "id": "d84c490a-27c3-48ae-bd4d-9c43daf0d05e",
   "metadata": {},
   "outputs": [
    {
     "data": {
      "text/plain": [
       "('/home/eranbe/dharelg/datasets/whisper_dataset/prototype_dataset/TAL_4prototype_tmpfiles_4creating_dataset/garbage5/words/2140.0.txt',\n",
       " '/home/eranbe/dharelg/datasets/whisper_dataset/prototype_dataset/TAL_4prototype_tmpfiles_4creating_dataset/garbage5/wav/2140.wav',\n",
       " '/home/eranbe/dharelg/datasets/whisper_dataset/prototype_dataset/TAL_4prototype_tmpfiles_4creating_dataset/garbage5/boolean/2140.0.txt')"
      ]
     },
     "execution_count": 17,
     "metadata": {},
     "output_type": "execute_result"
    }
   ],
   "source": [
    "list_zip_of_paths[-1]"
   ]
  },
  {
   "cell_type": "code",
   "execution_count": 18,
   "id": "c8047e24-4627-42ec-8d8e-5c91cd1eeacb",
   "metadata": {},
   "outputs": [
    {
     "data": {
      "text/plain": [
       "1230"
      ]
     },
     "execution_count": 18,
     "metadata": {},
     "output_type": "execute_result"
    }
   ],
   "source": [
    "len(list_zip_of_paths)"
   ]
  },
  {
   "cell_type": "code",
   "execution_count": 19,
   "id": "72bb77b3-0889-40e9-ae80-cafe0a607baa",
   "metadata": {},
   "outputs": [],
   "source": [
    "import warnings\n",
    "warnings.filterwarnings('ignore')"
   ]
  },
  {
   "cell_type": "code",
   "execution_count": 20,
   "id": "4878de9d-04ab-436d-a68a-05cbf35027d0",
   "metadata": {},
   "outputs": [],
   "source": [
    "all_data_list = []\n",
    "import pickle\n",
    "for i, (words_file,wav_file,protoype_label_file) in enumerate(list_zip_of_paths):\n",
    "    try:\n",
    "        data = {}       \n",
    "        y, sr = librosa.load(wav_file)\n",
    "        audio = librosa.resample(y, sr, 16000)\n",
    "        sampling_rate = 16000\n",
    "        audio = audio.flatten()\n",
    "        # Read in the sentence file\n",
    "        sentence_df = pd.read_csv(words_file,names=['words'])\n",
    "        sentence_word_df = pd.read_csv(protoype_label_file,names=['boolean'])\n",
    "\n",
    "        sentence_df['words'] = sentence_df['words'].apply(lambda x: x.lstrip('0123456789').lstrip())\n",
    "        sentence_df['boolean'] = sentence_word_df['boolean'].apply(lambda x: x.lstrip('0123456789').lstrip())\n",
    "        sentence_df['boolean'] = sentence_df['boolean'].apply(lambda x: x.upper())\n",
    "        sentence_df['word_with_boolean'] = sentence_df['boolean'] + ' ' + sentence_df['words']\n",
    "\n",
    "        sentence = \" \".join(sentence_df['word_with_boolean'].to_list())\n",
    "        # Add the data to the dictionary\n",
    "        data[i] = {'audio': {'path': wav_file, 'array': np.array(audio,dtype=float).flatten(), 'sampling_rate': sampling_rate}, 'sentence': sentence} \n",
    "        # Convert the data dictionary to a list of dictionaries\n",
    "        data_list = [{'audio': {\"path\": x['audio']['path'], 'array':  x['audio']['array'], 'sampling_rate': x['audio']['sampling_rate']}, 'sentence': x['sentence']} for x in data.values()]\n",
    "        # Create the DataFrame\n",
    "        all_data_list+=data_list\n",
    "    except:\n",
    "        continue"
   ]
  },
  {
   "cell_type": "code",
   "execution_count": 21,
   "id": "10bcdc3e-0314-4012-8a66-d0acc3a8a23c",
   "metadata": {},
   "outputs": [
    {
     "data": {
      "text/plain": [
       "\" for focus only\\nimport pickle\\n\\n# Save the list to a files\\nwith open('/home/eranbe/dharelg/datasets/whisper_dataset/notebooks_for_processing_data4prototype_and_focus_tal_alona/pickle_step2/all_data_list_focusonly_include21.pkl', 'wb') as f:\\n    pickle.dump(all_data_list, f)\\n\""
      ]
     },
     "execution_count": 21,
     "metadata": {},
     "output_type": "execute_result"
    }
   ],
   "source": [
    "\"\"\" for focus only\n",
    "import pickle\n",
    "\n",
    "# Save the list to a files\n",
    "with open('/home/eranbe/dharelg/datasets/whisper_dataset/notebooks_for_processing_data4prototype_and_focus_tal_alona/pickle_step2/all_data_list_focusonly_include21.pkl', 'wb') as f:\n",
    "    pickle.dump(all_data_list, f)\n",
    "\"\"\""
   ]
  },
  {
   "cell_type": "code",
   "execution_count": 22,
   "id": "a7e57596-ff83-4c0e-bf73-74f739061c00",
   "metadata": {},
   "outputs": [
    {
     "data": {
      "text/plain": [
       "{'audio': {'path': '/home/eranbe/dharelg/datasets/whisper_dataset/prototype_dataset/TAL_4prototype_tmpfiles_4creating_dataset/garbage5/wav/0.wav',\n",
       "  'array': array([-0.07229415, -0.10425258, -0.08992703, ..., -0.01851533,\n",
       "         -0.03886626,  0.        ]),\n",
       "  'sampling_rate': 16000},\n",
       " 'sentence': \"TRUE1FALSE Joe FALSE1TRUE Franklin TRUE2FALSE I'm FALSE2TRUE ready TRUE2FALSE It's FALSE2TRUE Ira FALSE2FALSE Glass FALSE2FALSE here TRUE3FALSE Oh TRUE3FALSE you're FALSE3FALSE the FALSE3TRUE emcee FALSE3FALSE on FALSE3FALSE the FALSE3FALSE show TRUE2FALSE Ira TRUE3FALSE I FALSE3TRUE am FALSE3FALSE the FALSE3FALSE emcee FALSE3FALSE on FALSE3FALSE the FALSE3FALSE show TRUE2FALSE Yes TRUE2FALSE Oh FALSE2TRUE great TRUE1TRUE Ira\"}"
      ]
     },
     "execution_count": 22,
     "metadata": {},
     "output_type": "execute_result"
    }
   ],
   "source": [
    "all_data_list[0]"
   ]
  },
  {
   "cell_type": "code",
   "execution_count": 23,
   "id": "f66d5b8b-95cd-45e1-acaf-00c4c0a9e523",
   "metadata": {},
   "outputs": [],
   "source": [
    "import pickle\n",
    "\n",
    "# Save the list to a files\n",
    "with open('/home/eranbe/dharelg/datasets/whisper_dataset/notebooks_for_processing_data4prototype_and_focus_tal_alona/pickle_step2/all_data_list_poc_segprotfoc_include21.pkl', 'wb') as f:\n",
    "    pickle.dump(all_data_list, f)\n"
   ]
  },
  {
   "cell_type": "code",
   "execution_count": null,
   "id": "8bdb1797-cb36-462d-9a08-d9a216ff5860",
   "metadata": {},
   "outputs": [],
   "source": []
  }
 ],
 "metadata": {
  "kernelspec": {
   "display_name": "Python 3 (ipykernel)",
   "language": "python",
   "name": "python3"
  },
  "language_info": {
   "codemirror_mode": {
    "name": "ipython",
    "version": 3
   },
   "file_extension": ".py",
   "mimetype": "text/x-python",
   "name": "python",
   "nbconvert_exporter": "python",
   "pygments_lexer": "ipython3",
   "version": "3.8.10"
  }
 },
 "nbformat": 4,
 "nbformat_minor": 5
}
